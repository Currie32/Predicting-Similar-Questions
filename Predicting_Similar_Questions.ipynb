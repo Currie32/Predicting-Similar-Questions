{
 "cells": [
  {
   "cell_type": "markdown",
   "metadata": {},
   "source": [
    "# Predicting Similar Questions"
   ]
  },
  {
   "cell_type": "markdown",
   "metadata": {},
   "source": [
    "The objective of this analysis is to use different Natural Language Processing methods to predict if pairs of questions have the same meaning. The data is from Quora and hosted on Kaggle: https://www.kaggle.com/quora/question-pairs-dataset. The sections of this analysis include:\n",
    "- Transforming the text\n",
    "- Method 1: TfidfVectorizer \n",
    "- Method 2: Doc2Vec"
   ]
  },
  {
   "cell_type": "code",
   "execution_count": 2,
   "metadata": {
    "collapsed": true
   },
   "outputs": [],
   "source": [
    "import pandas as pd\n",
    "import numpy as np\n",
    "import nltk\n",
    "from nltk.corpus import stopwords\n",
    "from nltk.stem import SnowballStemmer\n",
    "import re\n",
    "from gensim import utils\n",
    "from gensim.models.doc2vec import LabeledSentence\n",
    "from gensim.models import Doc2Vec\n",
    "from sklearn.metrics.pairwise import cosine_similarity\n",
    "from sklearn.feature_extraction.text import TfidfVectorizer\n",
    "from sklearn.metrics import accuracy_score\n",
    "from sklearn.metrics import confusion_matrix\n",
    "from sklearn.metrics import classification_report\n",
    "import matplotlib.pyplot as plt"
   ]
  },
  {
   "cell_type": "code",
   "execution_count": 33,
   "metadata": {
    "collapsed": true
   },
   "outputs": [],
   "source": [
    "df = pd.read_csv(\"questions.csv\")"
   ]
  },
  {
   "cell_type": "code",
   "execution_count": 34,
   "metadata": {
    "collapsed": false
   },
   "outputs": [
    {
     "data": {
      "text/html": [
       "<div>\n",
       "<table border=\"1\" class=\"dataframe\">\n",
       "  <thead>\n",
       "    <tr style=\"text-align: right;\">\n",
       "      <th></th>\n",
       "      <th>id</th>\n",
       "      <th>qid1</th>\n",
       "      <th>qid2</th>\n",
       "      <th>question1</th>\n",
       "      <th>question2</th>\n",
       "      <th>is_duplicate</th>\n",
       "    </tr>\n",
       "  </thead>\n",
       "  <tbody>\n",
       "    <tr>\n",
       "      <th>0</th>\n",
       "      <td>0</td>\n",
       "      <td>1</td>\n",
       "      <td>2</td>\n",
       "      <td>What is the step by step guide to invest in sh...</td>\n",
       "      <td>What is the step by step guide to invest in sh...</td>\n",
       "      <td>0</td>\n",
       "    </tr>\n",
       "    <tr>\n",
       "      <th>1</th>\n",
       "      <td>1</td>\n",
       "      <td>3</td>\n",
       "      <td>4</td>\n",
       "      <td>What is the story of Kohinoor (Koh-i-Noor) Dia...</td>\n",
       "      <td>What would happen if the Indian government sto...</td>\n",
       "      <td>0</td>\n",
       "    </tr>\n",
       "    <tr>\n",
       "      <th>2</th>\n",
       "      <td>2</td>\n",
       "      <td>5</td>\n",
       "      <td>6</td>\n",
       "      <td>How can I increase the speed of my internet co...</td>\n",
       "      <td>How can Internet speed be increased by hacking...</td>\n",
       "      <td>0</td>\n",
       "    </tr>\n",
       "    <tr>\n",
       "      <th>3</th>\n",
       "      <td>3</td>\n",
       "      <td>7</td>\n",
       "      <td>8</td>\n",
       "      <td>Why am I mentally very lonely? How can I solve...</td>\n",
       "      <td>Find the remainder when [math]23^{24}[/math] i...</td>\n",
       "      <td>0</td>\n",
       "    </tr>\n",
       "    <tr>\n",
       "      <th>4</th>\n",
       "      <td>4</td>\n",
       "      <td>9</td>\n",
       "      <td>10</td>\n",
       "      <td>Which one dissolve in water quikly sugar, salt...</td>\n",
       "      <td>Which fish would survive in salt water?</td>\n",
       "      <td>0</td>\n",
       "    </tr>\n",
       "    <tr>\n",
       "      <th>5</th>\n",
       "      <td>5</td>\n",
       "      <td>11</td>\n",
       "      <td>12</td>\n",
       "      <td>Astrology: I am a Capricorn Sun Cap moon and c...</td>\n",
       "      <td>I'm a triple Capricorn (Sun, Moon and ascendan...</td>\n",
       "      <td>1</td>\n",
       "    </tr>\n",
       "    <tr>\n",
       "      <th>6</th>\n",
       "      <td>6</td>\n",
       "      <td>13</td>\n",
       "      <td>14</td>\n",
       "      <td>Should I buy tiago?</td>\n",
       "      <td>What keeps childern active and far from phone ...</td>\n",
       "      <td>0</td>\n",
       "    </tr>\n",
       "    <tr>\n",
       "      <th>7</th>\n",
       "      <td>7</td>\n",
       "      <td>15</td>\n",
       "      <td>16</td>\n",
       "      <td>How can I be a good geologist?</td>\n",
       "      <td>What should I do to be a great geologist?</td>\n",
       "      <td>1</td>\n",
       "    </tr>\n",
       "    <tr>\n",
       "      <th>8</th>\n",
       "      <td>8</td>\n",
       "      <td>17</td>\n",
       "      <td>18</td>\n",
       "      <td>When do you use シ instead of し?</td>\n",
       "      <td>When do you use \"&amp;\" instead of \"and\"?</td>\n",
       "      <td>0</td>\n",
       "    </tr>\n",
       "    <tr>\n",
       "      <th>9</th>\n",
       "      <td>9</td>\n",
       "      <td>19</td>\n",
       "      <td>20</td>\n",
       "      <td>Motorola (company): Can I hack my Charter Moto...</td>\n",
       "      <td>How do I hack Motorola DCX3400 for free internet?</td>\n",
       "      <td>0</td>\n",
       "    </tr>\n",
       "  </tbody>\n",
       "</table>\n",
       "</div>"
      ],
      "text/plain": [
       "   id  qid1  qid2                                          question1  \\\n",
       "0   0     1     2  What is the step by step guide to invest in sh...   \n",
       "1   1     3     4  What is the story of Kohinoor (Koh-i-Noor) Dia...   \n",
       "2   2     5     6  How can I increase the speed of my internet co...   \n",
       "3   3     7     8  Why am I mentally very lonely? How can I solve...   \n",
       "4   4     9    10  Which one dissolve in water quikly sugar, salt...   \n",
       "5   5    11    12  Astrology: I am a Capricorn Sun Cap moon and c...   \n",
       "6   6    13    14                                Should I buy tiago?   \n",
       "7   7    15    16                     How can I be a good geologist?   \n",
       "8   8    17    18                    When do you use シ instead of し?   \n",
       "9   9    19    20  Motorola (company): Can I hack my Charter Moto...   \n",
       "\n",
       "                                           question2  is_duplicate  \n",
       "0  What is the step by step guide to invest in sh...             0  \n",
       "1  What would happen if the Indian government sto...             0  \n",
       "2  How can Internet speed be increased by hacking...             0  \n",
       "3  Find the remainder when [math]23^{24}[/math] i...             0  \n",
       "4            Which fish would survive in salt water?             0  \n",
       "5  I'm a triple Capricorn (Sun, Moon and ascendan...             1  \n",
       "6  What keeps childern active and far from phone ...             0  \n",
       "7          What should I do to be a great geologist?             1  \n",
       "8              When do you use \"&\" instead of \"and\"?             0  \n",
       "9  How do I hack Motorola DCX3400 for free internet?             0  "
      ]
     },
     "execution_count": 34,
     "metadata": {},
     "output_type": "execute_result"
    }
   ],
   "source": [
    "df.head(10)"
   ]
  },
  {
   "cell_type": "code",
   "execution_count": 35,
   "metadata": {
    "collapsed": false
   },
   "outputs": [
    {
     "data": {
      "text/plain": [
       "id              0\n",
       "qid1            0\n",
       "qid2            0\n",
       "question1       0\n",
       "question2       2\n",
       "is_duplicate    0\n",
       "dtype: int64"
      ]
     },
     "execution_count": 35,
     "metadata": {},
     "output_type": "execute_result"
    }
   ],
   "source": [
    "df.isnull().sum()"
   ]
  },
  {
   "cell_type": "code",
   "execution_count": 36,
   "metadata": {
    "collapsed": true
   },
   "outputs": [],
   "source": [
    "# Drop nulls since they can't be used by either method.\n",
    "df = df.dropna()"
   ]
  },
  {
   "cell_type": "code",
   "execution_count": 37,
   "metadata": {
    "collapsed": false
   },
   "outputs": [
    {
     "data": {
      "text/plain": [
       "id              0\n",
       "qid1            0\n",
       "qid2            0\n",
       "question1       0\n",
       "question2       0\n",
       "is_duplicate    0\n",
       "dtype: int64"
      ]
     },
     "execution_count": 37,
     "metadata": {},
     "output_type": "execute_result"
    }
   ],
   "source": [
    "df.isnull().sum()"
   ]
  },
  {
   "cell_type": "code",
   "execution_count": 38,
   "metadata": {
    "collapsed": false
   },
   "outputs": [
    {
     "data": {
      "text/plain": [
       "0    255043\n",
       "1    149306\n",
       "Name: is_duplicate, dtype: int64"
      ]
     },
     "execution_count": 38,
     "metadata": {},
     "output_type": "execute_result"
    }
   ],
   "source": [
    "df.is_duplicate.value_counts()"
   ]
  },
  {
   "cell_type": "code",
   "execution_count": 39,
   "metadata": {
    "collapsed": false
   },
   "outputs": [
    {
     "data": {
      "text/plain": [
       "0.6307496741676126"
      ]
     },
     "execution_count": 39,
     "metadata": {},
     "output_type": "execute_result"
    }
   ],
   "source": [
    "255043/len(df)"
   ]
  },
  {
   "cell_type": "markdown",
   "metadata": {},
   "source": [
    "Although accuracy won't be as good of a performance metric as F1, it's still good to establish some sort of a baseline. In this case, 63.1% will be our baseline for accuracy. \n",
    "\n",
    "Note: 50% could also be used as the baseline. This would represent a random guess, rather than always picking the most common answer."
   ]
  },
  {
   "cell_type": "code",
   "execution_count": 40,
   "metadata": {
    "collapsed": false
   },
   "outputs": [
    {
     "name": "stdout",
     "output_type": "stream",
     "text": [
      "Not duplicate:\n",
      "What is the step by step guide to invest in share market in india?\n",
      "What is the step by step guide to invest in share market?\n",
      "\n",
      "Not duplicate:\n",
      "What is the story of Kohinoor (Koh-i-Noor) Diamond?\n",
      "What would happen if the Indian government stole the Kohinoor (Koh-i-Noor) diamond back?\n",
      "\n",
      "Is duplicate:\n",
      "Astrology: I am a Capricorn Sun Cap moon and cap rising...what does that say about me?\n",
      "I'm a triple Capricorn (Sun, Moon and ascendant in Capricorn) What does this say about me?\n"
     ]
    }
   ],
   "source": [
    "# Take a look at some of the question pairs.\n",
    "print(\"Not duplicate:\")\n",
    "print(df.question1[0])\n",
    "print(df.question2[0])\n",
    "print()\n",
    "print(\"Not duplicate:\")\n",
    "print(df.question1[1])\n",
    "print(df.question2[1])\n",
    "print()\n",
    "print(\"Is duplicate:\")\n",
    "print(df.question1[5])\n",
    "print(df.question2[5])"
   ]
  },
  {
   "cell_type": "markdown",
   "metadata": {},
   "source": [
    "This task looks like it will be a little difficult since the first pair of questions have very similar wordings but different meanings, and the third pair have less similar wordings but the same meaning."
   ]
  },
  {
   "cell_type": "code",
   "execution_count": 41,
   "metadata": {
    "collapsed": true
   },
   "outputs": [],
   "source": [
    "def review_to_wordlist(review, remove_stopwords=True):\n",
    "    # Clean the text, with the option to remove stopwords.\n",
    "    \n",
    "    # Convert words to lower case and split them\n",
    "    words = review.lower().split()\n",
    "\n",
    "    # Optionally remove stop words (true by default)\n",
    "    if remove_stopwords:\n",
    "        stops = set(stopwords.words(\"english\"))\n",
    "        words = [w for w in words if not w in stops]\n",
    "    \n",
    "    review_text = \" \".join(words)\n",
    "\n",
    "    # Clean the text\n",
    "    review_text = re.sub(r\"[^A-Za-z0-9(),!.?\\'\\`]\", \" \", review_text)\n",
    "    review_text = re.sub(r\"\\'s\", \" 's \", review_text)\n",
    "    review_text = re.sub(r\"\\'ve\", \" 've \", review_text)\n",
    "    review_text = re.sub(r\"n\\'t\", \" 't \", review_text)\n",
    "    review_text = re.sub(r\"\\'re\", \" 're \", review_text)\n",
    "    review_text = re.sub(r\"\\'d\", \" 'd \", review_text)\n",
    "    review_text = re.sub(r\"\\'ll\", \" 'll \", review_text)\n",
    "    review_text = re.sub(r\",\", \" \", review_text)\n",
    "    review_text = re.sub(r\"\\.\", \" \", review_text)\n",
    "    review_text = re.sub(r\"!\", \" \", review_text)\n",
    "    review_text = re.sub(r\"\\(\", \" ( \", review_text)\n",
    "    review_text = re.sub(r\"\\)\", \" ) \", review_text)\n",
    "    review_text = re.sub(r\"\\?\", \" \", review_text)\n",
    "    review_text = re.sub(r\"\\s{2,}\", \" \", review_text)\n",
    "    \n",
    "    words = review_text.split()\n",
    "    \n",
    "    # Shorten words to their stems\n",
    "    stemmer = SnowballStemmer('english')\n",
    "    stemmed_words = [stemmer.stem(word) for word in words]\n",
    "    \n",
    "    review_text = \" \".join(stemmed_words)\n",
    "    \n",
    "    # Return a list of words\n",
    "    return(review_text)"
   ]
  },
  {
   "cell_type": "code",
   "execution_count": 42,
   "metadata": {
    "collapsed": false
   },
   "outputs": [],
   "source": [
    "def process_questions(question_list, questions, question_list_name):\n",
    "# function to transform questions and display progress\n",
    "    for question in questions:\n",
    "        question_list.append(review_to_wordlist(question))\n",
    "        if len(question_list) % 100000 == 0:\n",
    "            progress = len(question_list)/len(df) * 100\n",
    "            print(\"{} is {}% complete.\".format(question_list_name, round(progress, 1)))"
   ]
  },
  {
   "cell_type": "code",
   "execution_count": 43,
   "metadata": {
    "collapsed": false
   },
   "outputs": [
    {
     "name": "stdout",
     "output_type": "stream",
     "text": [
      "questions1 is 24.7% complete.\n",
      "questions1 is 49.5% complete.\n",
      "questions1 is 74.2% complete.\n",
      "questions1 is 98.9% complete.\n",
      "\n",
      "questions2 is 24.7% complete.\n",
      "questions2 is 49.5% complete.\n",
      "questions2 is 74.2% complete.\n",
      "questions2 is 98.9% complete.\n"
     ]
    }
   ],
   "source": [
    "questions1 = []     \n",
    "process_questions(questions1, df.question1, \"questions1\")\n",
    "print()\n",
    "questions2 = []     \n",
    "process_questions(questions2, df.question2, \"questions2\")"
   ]
  },
  {
   "cell_type": "code",
   "execution_count": 44,
   "metadata": {
    "collapsed": false
   },
   "outputs": [
    {
     "name": "stdout",
     "output_type": "stream",
     "text": [
      "step step guid invest share market india\n",
      "step step guid invest share market\n",
      "\n",
      "stori kohinoor ( koh i noor ) diamond\n",
      "would happen indian govern stole kohinoor ( koh i noor ) diamond back\n",
      "\n",
      "increas speed internet connect use vpn\n",
      "internet speed increas hack dns\n",
      "\n",
      "mental lone solv it\n",
      "find remaind math 23 24 math divid 24 23\n",
      "\n",
      "one dissolv water quik sugar salt methan carbon di oxid\n",
      "fish would surviv salt water\n",
      "\n"
     ]
    }
   ],
   "source": [
    "# Take a look at some of the processed questions.\n",
    "for i in range(5):\n",
    "    print(questions1[i])\n",
    "    print(questions2[i])\n",
    "    print()"
   ]
  },
  {
   "cell_type": "code",
   "execution_count": 45,
   "metadata": {
    "collapsed": false
   },
   "outputs": [
    {
     "name": "stdout",
     "output_type": "stream",
     "text": [
      "352\n"
     ]
    }
   ],
   "source": [
    "# Stores the indices of unusable questions\n",
    "invalid_questions = []\n",
    "for i in range(len(questions1)):\n",
    "    # questions need to contain a vowel (which should be part of a full word) to be valid\n",
    "    if not re.search('[aeiouyAEIOUY]', questions1[i]) or not re.search('[aeiouyAEIOUY]', questions2[i]):\n",
    "    # Need to subtract 'len(invalid_questions)' to adjust for the changing index values as questions are removed.\n",
    "        invalid_questions.append(i-len(invalid_questions))\n",
    "print(len(invalid_questions))"
   ]
  },
  {
   "cell_type": "code",
   "execution_count": 46,
   "metadata": {
    "collapsed": false,
    "scrolled": true
   },
   "outputs": [
    {
     "data": {
      "text/plain": [
       "[812,\n",
       " 1509,\n",
       " 3303,\n",
       " 3397,\n",
       " 3658,\n",
       " 3757,\n",
       " 6870,\n",
       " 7361,\n",
       " 7812,\n",
       " 9737,\n",
       " 10098,\n",
       " 10573,\n",
       " 10602,\n",
       " 11427,\n",
       " 12799,\n",
       " 13001,\n",
       " 13781,\n",
       " 15223,\n",
       " 15478,\n",
       " 17469,\n",
       " 17495,\n",
       " 18122,\n",
       " 18521,\n",
       " 19854,\n",
       " 20051,\n",
       " 20390,\n",
       " 20494,\n",
       " 20770,\n",
       " 23860,\n",
       " 26771,\n",
       " 28242,\n",
       " 28950,\n",
       " 31213,\n",
       " 31726,\n",
       " 31792,\n",
       " 32672,\n",
       " 32840,\n",
       " 33189,\n",
       " 33776,\n",
       " 34723,\n",
       " 35608,\n",
       " 36275,\n",
       " 36732,\n",
       " 37156,\n",
       " 38443,\n",
       " 40596,\n",
       " 43498,\n",
       " 44958,\n",
       " 47016,\n",
       " 51935,\n",
       " 52840,\n",
       " 53702,\n",
       " 53708,\n",
       " 53913,\n",
       " 54071,\n",
       " 55463,\n",
       " 55769,\n",
       " 57689,\n",
       " 60136,\n",
       " 65318,\n",
       " 67888,\n",
       " 67901,\n",
       " 71326,\n",
       " 75837,\n",
       " 76073,\n",
       " 78529,\n",
       " 81506,\n",
       " 82678,\n",
       " 88189,\n",
       " 88361,\n",
       " 89706,\n",
       " 90436,\n",
       " 91532,\n",
       " 93032,\n",
       " 96667,\n",
       " 99295,\n",
       " 99883,\n",
       " 103979,\n",
       " 104039,\n",
       " 104900,\n",
       " 105291,\n",
       " 106281,\n",
       " 106699,\n",
       " 107444,\n",
       " 108190,\n",
       " 108908,\n",
       " 108938,\n",
       " 109072,\n",
       " 109238,\n",
       " 113531,\n",
       " 115272,\n",
       " 121566,\n",
       " 122541,\n",
       " 124745,\n",
       " 124970,\n",
       " 127211,\n",
       " 127300,\n",
       " 128201,\n",
       " 129788,\n",
       " 130255,\n",
       " 130671,\n",
       " 133046,\n",
       " 134319,\n",
       " 135136,\n",
       " 136316,\n",
       " 136965,\n",
       " 138538,\n",
       " 138850,\n",
       " 138899,\n",
       " 139225,\n",
       " 141625,\n",
       " 143805,\n",
       " 144251,\n",
       " 144797,\n",
       " 146831,\n",
       " 147188,\n",
       " 148256,\n",
       " 150126,\n",
       " 150564,\n",
       " 150965,\n",
       " 151822,\n",
       " 153610,\n",
       " 156169,\n",
       " 156410,\n",
       " 157584,\n",
       " 158674,\n",
       " 159284,\n",
       " 159802,\n",
       " 161042,\n",
       " 163632,\n",
       " 165191,\n",
       " 165487,\n",
       " 165772,\n",
       " 166002,\n",
       " 168044,\n",
       " 168424,\n",
       " 169177,\n",
       " 169258,\n",
       " 170538,\n",
       " 172256,\n",
       " 174088,\n",
       " 174191,\n",
       " 174593,\n",
       " 174743,\n",
       " 174842,\n",
       " 175163,\n",
       " 176847,\n",
       " 178182,\n",
       " 179021,\n",
       " 181573,\n",
       " 182492,\n",
       " 184197,\n",
       " 184234,\n",
       " 184343,\n",
       " 185279,\n",
       " 185950,\n",
       " 186449,\n",
       " 187391,\n",
       " 189267,\n",
       " 189275,\n",
       " 189448,\n",
       " 189527,\n",
       " 190214,\n",
       " 190436,\n",
       " 191839,\n",
       " 193539,\n",
       " 196426,\n",
       " 196842,\n",
       " 197737,\n",
       " 197848,\n",
       " 198772,\n",
       " 198968,\n",
       " 200268,\n",
       " 200427,\n",
       " 202689,\n",
       " 202806,\n",
       " 203057,\n",
       " 204748,\n",
       " 205391,\n",
       " 206686,\n",
       " 207655,\n",
       " 208334,\n",
       " 209235,\n",
       " 210120,\n",
       " 211615,\n",
       " 211683,\n",
       " 211950,\n",
       " 212418,\n",
       " 213063,\n",
       " 216719,\n",
       " 217299,\n",
       " 218381,\n",
       " 219147,\n",
       " 219776,\n",
       " 222472,\n",
       " 222569,\n",
       " 222832,\n",
       " 223211,\n",
       " 224353,\n",
       " 224758,\n",
       " 225984,\n",
       " 226758,\n",
       " 230576,\n",
       " 230615,\n",
       " 231124,\n",
       " 231897,\n",
       " 232082,\n",
       " 232978,\n",
       " 233686,\n",
       " 234228,\n",
       " 236542,\n",
       " 237217,\n",
       " 237422,\n",
       " 239436,\n",
       " 239456,\n",
       " 240945,\n",
       " 245700,\n",
       " 245945,\n",
       " 246797,\n",
       " 251140,\n",
       " 252953,\n",
       " 253694,\n",
       " 253975,\n",
       " 254448,\n",
       " 254924,\n",
       " 255421,\n",
       " 255775,\n",
       " 256539,\n",
       " 257921,\n",
       " 257927,\n",
       " 257938,\n",
       " 258220,\n",
       " 258228,\n",
       " 259439,\n",
       " 259909,\n",
       " 259959,\n",
       " 260569,\n",
       " 264667,\n",
       " 265572,\n",
       " 268424,\n",
       " 271140,\n",
       " 271680,\n",
       " 272859,\n",
       " 272887,\n",
       " 273995,\n",
       " 276279,\n",
       " 279070,\n",
       " 279147,\n",
       " 280754,\n",
       " 281151,\n",
       " 281202,\n",
       " 286326,\n",
       " 289095,\n",
       " 289520,\n",
       " 289876,\n",
       " 290982,\n",
       " 292062,\n",
       " 293067,\n",
       " 294251,\n",
       " 295375,\n",
       " 295870,\n",
       " 298568,\n",
       " 298728,\n",
       " 300553,\n",
       " 301361,\n",
       " 301901,\n",
       " 302405,\n",
       " 303028,\n",
       " 303513,\n",
       " 304887,\n",
       " 305864,\n",
       " 306747,\n",
       " 307737,\n",
       " 308023,\n",
       " 308067,\n",
       " 310800,\n",
       " 310814,\n",
       " 312884,\n",
       " 313230,\n",
       " 313602,\n",
       " 315993,\n",
       " 317046,\n",
       " 317958,\n",
       " 318297,\n",
       " 318909,\n",
       " 319983,\n",
       " 320079,\n",
       " 320495,\n",
       " 321112,\n",
       " 325217,\n",
       " 325288,\n",
       " 326054,\n",
       " 326135,\n",
       " 326730,\n",
       " 327345,\n",
       " 328318,\n",
       " 328353,\n",
       " 328603,\n",
       " 329683,\n",
       " 332907,\n",
       " 333696,\n",
       " 334177,\n",
       " 334847,\n",
       " 336650,\n",
       " 337289,\n",
       " 338086,\n",
       " 338369,\n",
       " 341902,\n",
       " 343555,\n",
       " 344440,\n",
       " 348086,\n",
       " 348806,\n",
       " 350059,\n",
       " 350282,\n",
       " 350753,\n",
       " 350868,\n",
       " 351525,\n",
       " 356472,\n",
       " 356862,\n",
       " 361397,\n",
       " 361991,\n",
       " 362005,\n",
       " 363193,\n",
       " 364134,\n",
       " 370066,\n",
       " 374839,\n",
       " 376270,\n",
       " 376480,\n",
       " 376988,\n",
       " 379910,\n",
       " 379923,\n",
       " 380848,\n",
       " 383450,\n",
       " 384016,\n",
       " 386173,\n",
       " 386262,\n",
       " 388121,\n",
       " 389866,\n",
       " 391814,\n",
       " 393006,\n",
       " 394187,\n",
       " 394873,\n",
       " 395453,\n",
       " 398418,\n",
       " 399744,\n",
       " 399866,\n",
       " 399981,\n",
       " 401590,\n",
       " 401738,\n",
       " 401793,\n",
       " 402132,\n",
       " 402422]"
      ]
     },
     "execution_count": 46,
     "metadata": {},
     "output_type": "execute_result"
    }
   ],
   "source": [
    "# list of invalid questions\n",
    "invalid_questions"
   ]
  },
  {
   "cell_type": "markdown",
   "metadata": {},
   "source": [
    "These questions look pretty unusable, so it should be okay to remove them. Plus, we are only removing less than 0.09% of all of the questions."
   ]
  },
  {
   "cell_type": "code",
   "execution_count": 47,
   "metadata": {
    "collapsed": false
   },
   "outputs": [
    {
     "name": "stdout",
     "output_type": "stream",
     "text": [
      "1\n",
      "gdp\n",
      "signific gdp\n",
      "\n",
      "0\n",
      "204 8 503 13 305 11 907 25 705\n",
      "multipli fraction python\n",
      "\n",
      "0\n",
      "\n",
      "cornel 's endow lowest ivi leagu\n"
     ]
    }
   ],
   "source": [
    "# 1 = duplciate, 0 = not duplicate\n",
    "print(df.is_duplicate[invalid_questions[0]])\n",
    "print(questions1[invalid_questions[0]])\n",
    "print(questions2[invalid_questions[0]])\n",
    "print()\n",
    "print(df.is_duplicate[invalid_questions[1]+1])\n",
    "print(questions1[invalid_questions[1]+1])\n",
    "print(questions2[invalid_questions[1]+1])\n",
    "print()\n",
    "print(df.is_duplicate[invalid_questions[2]+2])\n",
    "print(questions1[invalid_questions[2]+2])\n",
    "print(questions2[invalid_questions[2]+2])"
   ]
  },
  {
   "cell_type": "code",
   "execution_count": 48,
   "metadata": {
    "collapsed": false,
    "scrolled": true
   },
   "outputs": [],
   "source": [
    "# Remove the invalid questions\n",
    "for index in invalid_questions:\n",
    "    df = df[df.id != index]\n",
    "    questions1.pop(index)\n",
    "    questions2.pop(index)\n",
    "\n",
    "# These questions are also unusable, but were not detected initially.\n",
    "# They were found when the function 'cosine_sim' stopped due to an error.\n",
    "unexpected_invalid_questions = [36460,42273,65937,304867,306828,353918] \n",
    "for index in unexpected_invalid_questions:\n",
    "    df = df[df.id != index]\n",
    "    questions1.pop(index)\n",
    "    questions2.pop(index)"
   ]
  },
  {
   "cell_type": "code",
   "execution_count": 49,
   "metadata": {
    "collapsed": true
   },
   "outputs": [],
   "source": [
    "# Use TfidfVectorizer() to transform the questions into vectors,\n",
    "# then compute their cosine similarity.\n",
    "vectorizer = TfidfVectorizer()\n",
    "def cosine_sim(text1, text2):\n",
    "    tfidf = vectorizer.fit_transform([text1, text2])\n",
    "    return ((tfidf * tfidf.T).A)[0,1]"
   ]
  },
  {
   "cell_type": "code",
   "execution_count": 69,
   "metadata": {
    "collapsed": false
   },
   "outputs": [
    {
     "name": "stdout",
     "output_type": "stream",
     "text": [
      "Similarity Scores is 0.0% complete.\n",
      "Similarity Scores is 9.9% complete.\n",
      "Similarity Scores is 19.8% complete.\n",
      "Similarity Scores is 29.7% complete.\n",
      "Similarity Scores is 39.6% complete.\n",
      "Similarity Scores is 49.51% complete.\n",
      "Similarity Scores is 59.41% complete.\n",
      "Similarity Scores is 69.31% complete.\n",
      "Similarity Scores is 79.21% complete.\n",
      "Similarity Scores is 89.11% complete.\n",
      "Similarity Scores is 99.01% complete.\n"
     ]
    }
   ],
   "source": [
    "Tfidf_scores = []\n",
    "for i in range(len(questions1)):\n",
    "    score = cosine_sim(questions1[i], questions2[i])\n",
    "    Tfidf_scores.append(score)\n",
    "    if i % 40000 == 0:\n",
    "        progress = i/len(questions1) * 100\n",
    "        print(\"Similarity Scores is {}% complete.\".format(round(progress,2)))"
   ]
  },
  {
   "cell_type": "code",
   "execution_count": 70,
   "metadata": {
    "collapsed": false
   },
   "outputs": [
    {
     "data": {
      "image/png": "[encoded data removed]",
      "text/plain": [
       "<matplotlib.figure.Figure at 0x21669c9e8>"
      ]
     },
     "metadata": {},
     "output_type": "display_data"
    }
   ],
   "source": [
    "# Plot the scores\n",
    "plt.figure(figsize=(12,4))\n",
    "plt.hist(Tfidf_scores, bins = 200)\n",
    "plt.xlim(0,1)\n",
    "plt.show()"
   ]
  },
  {
   "cell_type": "code",
   "execution_count": 96,
   "metadata": {
    "collapsed": true
   },
   "outputs": [],
   "source": [
    "# Function to report the quality of the model\n",
    "def performance_report(value, score_list):\n",
    "    # the value (0-1) is the cosine similarity score to determine if a pair of questions\n",
    "    # have the same meaning or not.\n",
    "    scores = []\n",
    "    for score in score_list:\n",
    "        if score >= value:\n",
    "            scores.append(1)\n",
    "        else:\n",
    "            scores.append(0)\n",
    "\n",
    "    accuracy = accuracy_score(df.is_duplicate, scores) * 100\n",
    "    print(\"Accuracy score is {}%.\".format(round(accuracy),1))\n",
    "    print()\n",
    "    print(\"Confusion Matrix:\")\n",
    "    print(confusion_matrix(df.is_duplicate, scores))\n",
    "    print()\n",
    "    print(\"Classification Report:\")\n",
    "    print(classification_report(df.is_duplicate, scores))"
   ]
  },
  {
   "cell_type": "code",
   "execution_count": 97,
   "metadata": {
    "collapsed": false
   },
   "outputs": [
    {
     "name": "stdout",
     "output_type": "stream",
     "text": [
      "Accuracy score is 65.0%.\n",
      "\n",
      "Confusion Matrix:\n",
      "[[175988  78826]\n",
      " [ 64308  84869]]\n",
      "\n",
      "Classification Report:\n",
      "             precision    recall  f1-score   support\n",
      "\n",
      "          0       0.73      0.69      0.71    254814\n",
      "          1       0.52      0.57      0.54    149177\n",
      "\n",
      "avg / total       0.65      0.65      0.65    403991\n",
      "\n"
     ]
    }
   ],
   "source": [
    "performance_report(0.51, Tfidf_scores)"
   ]
  },
  {
   "cell_type": "markdown",
   "metadata": {},
   "source": [
    "Using a threshold of 0.51 for the cosine similarity maximizes both the f1-score and accuracy. It's good to see that we are scoring better than the baseline value of 63.1% accuracy. I'm not too surprised that we didn't score much above the baseline accuracy, given the difficulty of this task."
   ]
  },
  {
   "cell_type": "markdown",
   "metadata": {
    "collapsed": true
   },
   "source": [
    "## Method 2: Doc2Vec"
   ]
  },
  {
   "cell_type": "code",
   "execution_count": 50,
   "metadata": {
    "collapsed": true
   },
   "outputs": [],
   "source": [
    "# Reset index to match the index values of questions1 and questions2\n",
    "df = df.reset_index()"
   ]
  },
  {
   "cell_type": "code",
   "execution_count": 51,
   "metadata": {
    "collapsed": false
   },
   "outputs": [
    {
     "name": "stdout",
     "output_type": "stream",
     "text": [
      "0.0% complete\n",
      "9.9% complete\n",
      "19.8% complete\n",
      "29.7% complete\n",
      "39.6% complete\n",
      "49.51% complete\n",
      "59.41% complete\n",
      "69.31% complete\n",
      "79.21% complete\n",
      "89.11% complete\n",
      "99.01% complete\n"
     ]
    }
   ],
   "source": [
    "# Contains the processed questions for Doc2Vec\n",
    "questions_labeled = []\n",
    "\n",
    "for i in range(len(questions1)):\n",
    "    # Question strings need to be separated into words\n",
    "    # Each question needs a unique label\n",
    "    questions_labeled.append(LabeledSentence(questions1[i].split(), df[df.index == i].qid1))\n",
    "    questions_labeled.append(LabeledSentence(questions2[i].split(), df[df.index == i].qid2))\n",
    "    if i % 40000 == 0:\n",
    "        progress = i/len(questions1) * 100\n",
    "        print(\"{}% complete\".format(round(progress, 2)))"
   ]
  },
  {
   "cell_type": "code",
   "execution_count": 52,
   "metadata": {
    "collapsed": true
   },
   "outputs": [],
   "source": [
    "# Split questions for computing similarity and determining the lengths of the questions.\n",
    "questions1_split = []\n",
    "for question in questions1:\n",
    "    questions1_split.append(question.split())\n",
    "    \n",
    "questions2_split = []\n",
    "for question in questions2:\n",
    "    questions2_split.append(question.split())"
   ]
  },
  {
   "cell_type": "code",
   "execution_count": 53,
   "metadata": {
    "collapsed": false
   },
   "outputs": [],
   "source": [
    "# Determine the length of questions to select more optimal parameters.\n",
    "lengths = []\n",
    "for i in range(len(questions1_split)):\n",
    "    lengths.append(len(questions1_split[i]))\n",
    "    lengths.append(len(questions2_split[i]))\n",
    "lengths = pd.DataFrame(lengths, columns=[\"count\"])"
   ]
  },
  {
   "cell_type": "code",
   "execution_count": 54,
   "metadata": {
    "collapsed": false
   },
   "outputs": [
    {
     "data": {
      "text/plain": [
       "count    807982.000000\n",
       "mean          5.938129\n",
       "std           3.555895\n",
       "min           1.000000\n",
       "25%           4.000000\n",
       "50%           5.000000\n",
       "75%           7.000000\n",
       "max         118.000000\n",
       "Name: count, dtype: float64"
      ]
     },
     "execution_count": 54,
     "metadata": {},
     "output_type": "execute_result"
    }
   ],
   "source": [
    "lengths['count'].describe()"
   ]
  },
  {
   "cell_type": "code",
   "execution_count": 55,
   "metadata": {
    "collapsed": false
   },
   "outputs": [
    {
     "data": {
      "text/plain": [
       "18.0"
      ]
     },
     "execution_count": 55,
     "metadata": {},
     "output_type": "execute_result"
    }
   ],
   "source": [
    "# 99% of the questions include 18 or fewer words.\n",
    "np.percentile(lengths['count'], 99)"
   ]
  },
  {
   "cell_type": "code",
   "execution_count": 56,
   "metadata": {
    "collapsed": false
   },
   "outputs": [],
   "source": [
    "# Build the model\n",
    "model = Doc2Vec(dm = 1, min_count=1, window=10, size=150, sample=1e-4, negative=10)\n",
    "model.build_vocab(questions_labeled)"
   ]
  },
  {
   "cell_type": "code",
   "execution_count": 57,
   "metadata": {
    "collapsed": false
   },
   "outputs": [
    {
     "name": "stdout",
     "output_type": "stream",
     "text": [
      "Epoch #1 is complete.\n",
      "Epoch #2 is complete.\n",
      "Epoch #3 is complete.\n",
      "Epoch #4 is complete.\n",
      "Epoch #5 is complete.\n",
      "Epoch #6 is complete.\n",
      "Epoch #7 is complete.\n",
      "Epoch #8 is complete.\n",
      "Epoch #9 is complete.\n",
      "Epoch #10 is complete.\n",
      "Epoch #11 is complete.\n",
      "Epoch #12 is complete.\n",
      "Epoch #13 is complete.\n",
      "Epoch #14 is complete.\n",
      "Epoch #15 is complete.\n",
      "Epoch #16 is complete.\n",
      "Epoch #17 is complete.\n",
      "Epoch #18 is complete.\n",
      "Epoch #19 is complete.\n",
      "Epoch #20 is complete.\n"
     ]
    }
   ],
   "source": [
    "# Train the model\n",
    "for epoch in range(20):\n",
    "    model.train(questions_labeled)\n",
    "    print(\"Epoch #{} is complete.\".format(epoch+1))"
   ]
  },
  {
   "cell_type": "code",
   "execution_count": 58,
   "metadata": {
    "collapsed": false
   },
   "outputs": [
    {
     "data": {
      "text/plain": [
       "[('best', 0.9542202353477478),\n",
       " ('better', 0.9060102105140686),\n",
       " ('start', 0.9024202227592468),\n",
       " ('interest', 0.8957880139350891),\n",
       " ('like', 0.8842660188674927),\n",
       " ('well', 0.8825112581253052),\n",
       " ('make', 0.8812618255615234),\n",
       " ('need', 0.8797006607055664),\n",
       " ('one', 0.8790075182914734),\n",
       " ('find', 0.8748948574066162)]"
      ]
     },
     "execution_count": 58,
     "metadata": {},
     "output_type": "execute_result"
    }
   ],
   "source": [
    "# Check a few terms to ensure the model was trained properly.\n",
    "model.most_similar('good')"
   ]
  },
  {
   "cell_type": "code",
   "execution_count": 59,
   "metadata": {
    "collapsed": false,
    "scrolled": true
   },
   "outputs": [
    {
     "data": {
      "text/plain": [
       "[('person', 0.9067744016647339),\n",
       " ('other', 0.8996791243553162),\n",
       " ('them', 0.8970301151275635),\n",
       " ('someon', 0.8832480907440186),\n",
       " ('think', 0.8737582564353943),\n",
       " ('realli', 0.8734872341156006),\n",
       " ('like', 0.8638435006141663),\n",
       " ('ever', 0.8628634214401245),\n",
       " ('even', 0.8564079403877258),\n",
       " ('would', 0.8534165024757385)]"
      ]
     },
     "execution_count": 59,
     "metadata": {},
     "output_type": "execute_result"
    }
   ],
   "source": [
    "model.most_similar('peopl')"
   ]
  },
  {
   "cell_type": "code",
   "execution_count": 60,
   "metadata": {
    "collapsed": false
   },
   "outputs": [
    {
     "data": {
      "text/plain": [
       "[('learn', 0.8101800084114075),\n",
       " ('read', 0.8096179366111755),\n",
       " ('write', 0.7993476986885071),\n",
       " ('best', 0.7717825174331665),\n",
       " ('blog', 0.7657737731933594),\n",
       " ('topic', 0.7641643285751343),\n",
       " ('onlin', 0.7596403956413269),\n",
       " ('english', 0.7537113428115845),\n",
       " ('must', 0.7532482147216797),\n",
       " ('one', 0.751745879650116)]"
      ]
     },
     "execution_count": 60,
     "metadata": {},
     "output_type": "execute_result"
    }
   ],
   "source": [
    "model.most_similar('book')"
   ]
  },
  {
   "cell_type": "markdown",
   "metadata": {},
   "source": [
    "These words have appropriate similar words, so I am pleased with the training."
   ]
  },
  {
   "cell_type": "code",
   "execution_count": 61,
   "metadata": {
    "collapsed": false
   },
   "outputs": [
    {
     "name": "stdout",
     "output_type": "stream",
     "text": [
      "0.0% complete.\n",
      "24.75% complete.\n",
      "49.51% complete.\n",
      "74.26% complete.\n",
      "99.01% complete.\n"
     ]
    }
   ],
   "source": [
    "doc2vec_scores = []\n",
    "for i in range(len(questions1_split)):\n",
    "    # n_similarity computes the cosine similarity in Doc2Vec\n",
    "    score = model.n_similarity(questions1_split[i],questions2_split[i])\n",
    "    doc2vec_scores.append(score)\n",
    "    if i % 100000 == 0:\n",
    "        progress = i/len(questions1_split) * 100\n",
    "        print(\"{}% complete.\".format(round(progress,2)))"
   ]
  },
  {
   "cell_type": "code",
   "execution_count": 62,
   "metadata": {
    "collapsed": false
   },
   "outputs": [
    {
     "data": {
      "image/png": "[encoded data removed]",
      "text/plain": [
       "<matplotlib.figure.Figure at 0x1ef6257b8>"
      ]
     },
     "metadata": {},
     "output_type": "display_data"
    }
   ],
   "source": [
    "# Plot the scores\n",
    "plt.figure(figsize=(12,4))\n",
    "plt.hist(doc2vec_scores, bins = 200)\n",
    "plt.xlim(0,1)\n",
    "plt.show()"
   ]
  },
  {
   "cell_type": "markdown",
   "metadata": {},
   "source": [
    "It's interesting to see how Doc2Vec computes the pairs of questions to be more similar than TfidfVectorizer."
   ]
  },
  {
   "cell_type": "code",
   "execution_count": 68,
   "metadata": {
    "collapsed": false
   },
   "outputs": [
    {
     "name": "stdout",
     "output_type": "stream",
     "text": [
      "Accuracy score is 67.0%.\n",
      "\n",
      "Confusion Matrix:\n",
      "[[188058  66756]\n",
      " [ 68451  80726]]\n",
      "\n",
      "Classification Report:\n",
      "             precision    recall  f1-score   support\n",
      "\n",
      "          0       0.73      0.74      0.74    254814\n",
      "          1       0.55      0.54      0.54    149177\n",
      "\n",
      "avg / total       0.66      0.67      0.66    403991\n",
      "\n"
     ]
    }
   ],
   "source": [
    "performance_report(0.945, doc2vec_scores)"
   ]
  },
  {
   "cell_type": "markdown",
   "metadata": {
    "collapsed": true
   },
   "source": [
    "Using 0.945 as our threshold, we are able to score slightly higher with the Doc2Vec method. Accuracy is 2 percentage points higher and the f1-score increased by 0.01. Much like with TfidfVectorizer, it would have been nice to score higher, but this is by no means an easy challenge. Nonetheless, I hope that you have learned something from reading this and enjoyed this project as much as I did."
   ]
  },
  {
   "cell_type": "code",
   "execution_count": null,
   "metadata": {
    "collapsed": true
   },
   "outputs": [],
   "source": []
  }
 ],
 "metadata": {
  "anaconda-cloud": {},
  "kernelspec": {
   "display_name": "Python [default]",
   "language": "python",
   "name": "python3"
  },
  "language_info": {
   "codemirror_mode": {
    "name": "ipython",
    "version": 3
   },
   "file_extension": ".py",
   "mimetype": "text/x-python",
   "name": "python",
   "nbconvert_exporter": "python",
   "pygments_lexer": "ipython3",
   "version": "3.5.2"
  }
 },
 "nbformat": 4,
 "nbformat_minor": 1
}
