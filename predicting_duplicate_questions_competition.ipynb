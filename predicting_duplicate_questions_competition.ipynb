{
 "cells": [
  {
   "cell_type": "markdown",
   "metadata": {},
   "source": [
    "# Predicting Duplicate Questions"
   ]
  },
  {
   "cell_type": "markdown",
   "metadata": {},
   "source": [
    "The goal for this analysis is to accuractely predict if pairs of questions have the same meaning or not. This work is for the Kaggle Competition - \"Quora Question Pairs\": https://www.kaggle.com/c/quora-question-pairs"
   ]
  },
  {
   "cell_type": "code",
   "execution_count": 5,
   "metadata": {
    "collapsed": false
   },
   "outputs": [],
   "source": [
    "import pandas as pd\n",
    "import numpy as np\n",
    "import nltk\n",
    "from nltk.corpus import stopwords\n",
    "from nltk.stem import SnowballStemmer\n",
    "import re\n",
    "from sklearn.metrics import accuracy_score\n",
    "import matplotlib.pyplot as plt\n",
    "import datetime, time, json\n",
    "\n",
    "from keras.preprocessing.text import Tokenizer\n",
    "from keras.preprocessing.sequence import pad_sequences\n",
    "from keras.models import Sequential\n",
    "from keras.layers import Embedding, Dense, Dropout, Reshape, Merge, BatchNormalization, TimeDistributed, \\\n",
    "                         Lambda, Activation, LSTM, Flatten, Convolution1D, GRU, MaxPooling1D\n",
    "from keras.regularizers import l2\n",
    "from keras.callbacks import Callback, ModelCheckpoint, EarlyStopping\n",
    "from keras import initializers\n",
    "from keras import backend as K\n",
    "from keras.optimizers import SGD\n",
    "from collections import defaultdict"
   ]
  },
  {
   "cell_type": "code",
   "execution_count": 6,
   "metadata": {
    "collapsed": true
   },
   "outputs": [],
   "source": [
    "train = pd.read_csv(\"train.csv\")\n",
    "test = pd.read_csv(\"test.csv\")"
   ]
  },
  {
   "cell_type": "code",
   "execution_count": 7,
   "metadata": {
    "collapsed": false
   },
   "outputs": [
    {
     "data": {
      "text/html": [
       "<div>\n",
       "<table border=\"1\" class=\"dataframe\">\n",
       "  <thead>\n",
       "    <tr style=\"text-align: right;\">\n",
       "      <th></th>\n",
       "      <th>id</th>\n",
       "      <th>qid1</th>\n",
       "      <th>qid2</th>\n",
       "      <th>question1</th>\n",
       "      <th>question2</th>\n",
       "      <th>is_duplicate</th>\n",
       "    </tr>\n",
       "  </thead>\n",
       "  <tbody>\n",
       "    <tr>\n",
       "      <th>0</th>\n",
       "      <td>0</td>\n",
       "      <td>1</td>\n",
       "      <td>2</td>\n",
       "      <td>What is the step by step guide to invest in sh...</td>\n",
       "      <td>What is the step by step guide to invest in sh...</td>\n",
       "      <td>0</td>\n",
       "    </tr>\n",
       "    <tr>\n",
       "      <th>1</th>\n",
       "      <td>1</td>\n",
       "      <td>3</td>\n",
       "      <td>4</td>\n",
       "      <td>What is the story of Kohinoor (Koh-i-Noor) Dia...</td>\n",
       "      <td>What would happen if the Indian government sto...</td>\n",
       "      <td>0</td>\n",
       "    </tr>\n",
       "    <tr>\n",
       "      <th>2</th>\n",
       "      <td>2</td>\n",
       "      <td>5</td>\n",
       "      <td>6</td>\n",
       "      <td>How can I increase the speed of my internet co...</td>\n",
       "      <td>How can Internet speed be increased by hacking...</td>\n",
       "      <td>0</td>\n",
       "    </tr>\n",
       "    <tr>\n",
       "      <th>3</th>\n",
       "      <td>3</td>\n",
       "      <td>7</td>\n",
       "      <td>8</td>\n",
       "      <td>Why am I mentally very lonely? How can I solve...</td>\n",
       "      <td>Find the remainder when [math]23^{24}[/math] i...</td>\n",
       "      <td>0</td>\n",
       "    </tr>\n",
       "    <tr>\n",
       "      <th>4</th>\n",
       "      <td>4</td>\n",
       "      <td>9</td>\n",
       "      <td>10</td>\n",
       "      <td>Which one dissolve in water quikly sugar, salt...</td>\n",
       "      <td>Which fish would survive in salt water?</td>\n",
       "      <td>0</td>\n",
       "    </tr>\n",
       "    <tr>\n",
       "      <th>5</th>\n",
       "      <td>5</td>\n",
       "      <td>11</td>\n",
       "      <td>12</td>\n",
       "      <td>Astrology: I am a Capricorn Sun Cap moon and c...</td>\n",
       "      <td>I'm a triple Capricorn (Sun, Moon and ascendan...</td>\n",
       "      <td>1</td>\n",
       "    </tr>\n",
       "  </tbody>\n",
       "</table>\n",
       "</div>"
      ],
      "text/plain": [
       "   id  qid1  qid2                                          question1  \\\n",
       "0   0     1     2  What is the step by step guide to invest in sh...   \n",
       "1   1     3     4  What is the story of Kohinoor (Koh-i-Noor) Dia...   \n",
       "2   2     5     6  How can I increase the speed of my internet co...   \n",
       "3   3     7     8  Why am I mentally very lonely? How can I solve...   \n",
       "4   4     9    10  Which one dissolve in water quikly sugar, salt...   \n",
       "5   5    11    12  Astrology: I am a Capricorn Sun Cap moon and c...   \n",
       "\n",
       "                                           question2  is_duplicate  \n",
       "0  What is the step by step guide to invest in sh...             0  \n",
       "1  What would happen if the Indian government sto...             0  \n",
       "2  How can Internet speed be increased by hacking...             0  \n",
       "3  Find the remainder when [math]23^{24}[/math] i...             0  \n",
       "4            Which fish would survive in salt water?             0  \n",
       "5  I'm a triple Capricorn (Sun, Moon and ascendan...             1  "
      ]
     },
     "execution_count": 7,
     "metadata": {},
     "output_type": "execute_result"
    }
   ],
   "source": [
    "train.head(6)"
   ]
  },
  {
   "cell_type": "code",
   "execution_count": 8,
   "metadata": {
    "collapsed": false
   },
   "outputs": [
    {
     "data": {
      "text/html": [
       "<div>\n",
       "<table border=\"1\" class=\"dataframe\">\n",
       "  <thead>\n",
       "    <tr style=\"text-align: right;\">\n",
       "      <th></th>\n",
       "      <th>test_id</th>\n",
       "      <th>question1</th>\n",
       "      <th>question2</th>\n",
       "    </tr>\n",
       "  </thead>\n",
       "  <tbody>\n",
       "    <tr>\n",
       "      <th>0</th>\n",
       "      <td>0</td>\n",
       "      <td>How does the Surface Pro himself 4 compare wit...</td>\n",
       "      <td>Why did Microsoft choose core m3 and not core ...</td>\n",
       "    </tr>\n",
       "    <tr>\n",
       "      <th>1</th>\n",
       "      <td>1</td>\n",
       "      <td>Should I have a hair transplant at age 24? How...</td>\n",
       "      <td>How much cost does hair transplant require?</td>\n",
       "    </tr>\n",
       "    <tr>\n",
       "      <th>2</th>\n",
       "      <td>2</td>\n",
       "      <td>What but is the best way to send money from Ch...</td>\n",
       "      <td>What you send money to China?</td>\n",
       "    </tr>\n",
       "    <tr>\n",
       "      <th>3</th>\n",
       "      <td>3</td>\n",
       "      <td>Which food not emulsifiers?</td>\n",
       "      <td>What foods fibre?</td>\n",
       "    </tr>\n",
       "    <tr>\n",
       "      <th>4</th>\n",
       "      <td>4</td>\n",
       "      <td>How \"aberystwyth\" start reading?</td>\n",
       "      <td>How their can I start reading?</td>\n",
       "    </tr>\n",
       "  </tbody>\n",
       "</table>\n",
       "</div>"
      ],
      "text/plain": [
       "   test_id                                          question1  \\\n",
       "0        0  How does the Surface Pro himself 4 compare wit...   \n",
       "1        1  Should I have a hair transplant at age 24? How...   \n",
       "2        2  What but is the best way to send money from Ch...   \n",
       "3        3                        Which food not emulsifiers?   \n",
       "4        4                   How \"aberystwyth\" start reading?   \n",
       "\n",
       "                                           question2  \n",
       "0  Why did Microsoft choose core m3 and not core ...  \n",
       "1        How much cost does hair transplant require?  \n",
       "2                      What you send money to China?  \n",
       "3                                  What foods fibre?  \n",
       "4                     How their can I start reading?  "
      ]
     },
     "execution_count": 8,
     "metadata": {},
     "output_type": "execute_result"
    }
   ],
   "source": [
    "test.head()"
   ]
  },
  {
   "cell_type": "code",
   "execution_count": 9,
   "metadata": {
    "collapsed": false
   },
   "outputs": [
    {
     "name": "stdout",
     "output_type": "stream",
     "text": [
      "(404290, 6)\n",
      "(2345796, 3)\n"
     ]
    }
   ],
   "source": [
    "print(train.shape)\n",
    "print(test.shape)"
   ]
  },
  {
   "cell_type": "code",
   "execution_count": 10,
   "metadata": {
    "collapsed": false
   },
   "outputs": [
    {
     "name": "stdout",
     "output_type": "stream",
     "text": [
      "id              0\n",
      "qid1            0\n",
      "qid2            0\n",
      "question1       0\n",
      "question2       2\n",
      "is_duplicate    0\n",
      "dtype: int64\n",
      "test_id      0\n",
      "question1    2\n",
      "question2    4\n",
      "dtype: int64\n"
     ]
    }
   ],
   "source": [
    "# Check for any null values\n",
    "print(train.isnull().sum())\n",
    "print(test.isnull().sum())"
   ]
  },
  {
   "cell_type": "code",
   "execution_count": 11,
   "metadata": {
    "collapsed": true
   },
   "outputs": [],
   "source": [
    "# Add the string 'empty' to empty strings\n",
    "train = train.fillna('empty')\n",
    "test = test.fillna('empty')"
   ]
  },
  {
   "cell_type": "code",
   "execution_count": 12,
   "metadata": {
    "collapsed": false
   },
   "outputs": [
    {
     "name": "stdout",
     "output_type": "stream",
     "text": [
      "id              0\n",
      "qid1            0\n",
      "qid2            0\n",
      "question1       0\n",
      "question2       0\n",
      "is_duplicate    0\n",
      "dtype: int64\n",
      "test_id      0\n",
      "question1    0\n",
      "question2    0\n",
      "dtype: int64\n"
     ]
    }
   ],
   "source": [
    "print(train.isnull().sum())\n",
    "print(test.isnull().sum())"
   ]
  },
  {
   "cell_type": "code",
   "execution_count": 13,
   "metadata": {
    "collapsed": false
   },
   "outputs": [
    {
     "name": "stdout",
     "output_type": "stream",
     "text": [
      "What is the step by step guide to invest in share market in india?\n",
      "What is the step by step guide to invest in share market?\n",
      "\n",
      "What is the story of Kohinoor (Koh-i-Noor) Diamond?\n",
      "What would happen if the Indian government stole the Kohinoor (Koh-i-Noor) diamond back?\n",
      "\n",
      "How can I increase the speed of my internet connection while using a VPN?\n",
      "How can Internet speed be increased by hacking through DNS?\n",
      "\n",
      "Why am I mentally very lonely? How can I solve it?\n",
      "Find the remainder when [math]23^{24}[/math] is divided by 24,23?\n",
      "\n",
      "Which one dissolve in water quikly sugar, salt, methane and carbon di oxide?\n",
      "Which fish would survive in salt water?\n",
      "\n",
      "Astrology: I am a Capricorn Sun Cap moon and cap rising...what does that say about me?\n",
      "I'm a triple Capricorn (Sun, Moon and ascendant in Capricorn) What does this say about me?\n",
      "\n"
     ]
    }
   ],
   "source": [
    "# Preview some of the pairs of questions\n",
    "for i in range(6):\n",
    "    print(train.question1[i])\n",
    "    print(train.question2[i])\n",
    "    print()"
   ]
  },
  {
   "cell_type": "code",
   "execution_count": 191,
   "metadata": {
    "collapsed": false
   },
   "outputs": [],
   "source": [
    "def text_to_wordlist(text, remove_stopwords=False, stem_words=False):\n",
    "    # Clean the text, with the option to remove stopwords and to stem words.\n",
    "    \n",
    "    # Convert words to lower case and split them\n",
    "    text = text.lower().split()\n",
    "\n",
    "    # Optionally, remove stop words\n",
    "    if remove_stopwords:\n",
    "        stops = set(stopwords.words(\"english\"))\n",
    "        text = [w for w in text if not w in stops]\n",
    "    \n",
    "    text = \" \".join(text)\n",
    "\n",
    "    # Clean the text\n",
    "    text = re.sub(r\"[^A-Za-z0-9^,!.\\/'+-=]\", \" \", text)\n",
    "    text = re.sub(r\"what's\", \"what is \", text)\n",
    "    text = re.sub(r\"\\'s\", \" \", text)\n",
    "    text = re.sub(r\"\\'ve\", \" have \", text)\n",
    "    text = re.sub(r\"can't\", \"cannot \", text)\n",
    "    text = re.sub(r\"n't\", \" not \", text)\n",
    "    text = re.sub(r\"i'm\", \"i am \", text)\n",
    "    text = re.sub(r\"\\'re\", \" are \", text)\n",
    "    text = re.sub(r\"\\'d\", \" would \", text)\n",
    "    text = re.sub(r\"\\'ll\", \" will \", text)\n",
    "    text = re.sub(r\",\", \" \", text)\n",
    "    text = re.sub(r\"\\.\", \" \", text)\n",
    "    text = re.sub(r\"!\", \" ! \", text)\n",
    "    text = re.sub(r\"\\/\", \" \", text)\n",
    "    text = re.sub(r\"\\^\", \" ^ \", text)\n",
    "    text = re.sub(r\"\\+\", \" + \", text)\n",
    "    text = re.sub(r\"\\-\", \" - \", text)\n",
    "    text = re.sub(r\"\\=\", \" = \", text)\n",
    "    text = re.sub(r\"'\", \" \", text)\n",
    "    text = re.sub(r\"60k\", \" 60000 \", text)\n",
    "    text = re.sub(r\":\", \" \", text)\n",
    "    text = re.sub(r\" e g \", \" eg \", text)\n",
    "    text = re.sub(r\" b g \", \" bg \", text)\n",
    "    text = re.sub(r\" u s \", \" american \", text)\n",
    "    text = re.sub(r\"\\0s\", \"0\", text)\n",
    "    text = re.sub(r\" 9 11 \", \"911\", text)\n",
    "    text = re.sub(r\"e - mail\", \"email\", text)\n",
    "    text = re.sub(r\"j k\", \"jk\", text)\n",
    "    text = re.sub(r\"\\s{2,}\", \" \", text)\n",
    "    text = re.sub(r\"quikly\", \"quickly\", text)\n",
    "    text = re.sub(r\"usa\", \"America\", text)\n",
    "    text = re.sub(r\"canada\", \"Canada\", text)\n",
    "    text = re.sub(r\"japan\", \"Japan\", text)\n",
    "    text = re.sub(r\"germany\", \"Germany\", text)\n",
    "    text = re.sub(r\"burma\", \"Burma\", text)\n",
    "    text = re.sub(r\"rohingya\", \"Rohingya\", text)\n",
    "    text = re.sub(r\"zealand\", \"Zealand\", text)\n",
    "    text = re.sub(r\"cambodia\", \"Cambodia\", text)\n",
    "    text = re.sub(r\"zealand\", \"Zealand\", text)\n",
    "    text = re.sub(r\"norway\", \"Norway\", text)\n",
    "    text = re.sub(r\"india\", \"India\", text)\n",
    "    text = re.sub(r\"pakistan\", \"Pakistan\", text)\n",
    "    text = re.sub(r\"britain\", \"Britain\", text)\n",
    "    text = re.sub(r\"switzerland\", \"Switzerland\", text)\n",
    "    text = re.sub(r\"china\", \"China\", text)\n",
    "    text = re.sub(r\"chinese\", \"Chinese\", text) \n",
    "    text = re.sub(r\"imrovement\", \"improvement\", text)\n",
    "    text = re.sub(r\"intially\", \"initially\", text)\n",
    "    text = re.sub(r\"quora\", \"Quora\", text)\n",
    "    text = re.sub(r\" dms \", \"direct messages \", text)  \n",
    "    text = re.sub(r\"demonitization\", \"demonetization\", text) \n",
    "    text = re.sub(r\"actived\", \"active\", text)\n",
    "    text = re.sub(r\"kms\", \" kilometers \", text)\n",
    "    text = re.sub(r\" cs \", \" computer science \", text) \n",
    "    text = re.sub(r\" upvotes \", \" up votes \", text)\n",
    "    text = re.sub(r\" iphone \", \" phone \", text)\n",
    "    text = re.sub(r\"\\0rs \", \" rs \", text) \n",
    "    text = re.sub(r\"calender\", \"calendar\", text)\n",
    "    text = re.sub(r\"ios\", \"operating system\", text)\n",
    "    text = re.sub(r\"gps\", \"GPS\", text)\n",
    "    text = re.sub(r\"gst\", \"GST\", text)\n",
    "    text = re.sub(r\"programing\", \"programming\", text)\n",
    "    text = re.sub(r\"bestfriend\", \"best friend\", text)\n",
    "    text = re.sub(r\"dna\", \"DNA\", text)\n",
    "    \n",
    "    # Optionally, shorten words to their stems\n",
    "    if stem_words:\n",
    "        text = text.split()\n",
    "        stemmer = SnowballStemmer('english')\n",
    "        stemmed_words = [stemmer.stem(word) for word in text]\n",
    "        text = \" \".join(stemmed_words)\n",
    "    \n",
    "    # Return a list of words\n",
    "    return(text)"
   ]
  },
  {
   "cell_type": "code",
   "execution_count": 192,
   "metadata": {
    "collapsed": false
   },
   "outputs": [],
   "source": [
    "def process_questions(question_list, questions, question_list_name, dataframe):\n",
    "    '''transform questions and display progress'''\n",
    "    for question in questions:\n",
    "        question_list.append(text_to_wordlist(question))\n",
    "        if len(question_list) % 100000 == 0:\n",
    "            progress = len(question_list)/len(dataframe) * 100\n",
    "            print(\"{} is {}% complete.\".format(question_list_name, round(progress, 1)))"
   ]
  },
  {
   "cell_type": "code",
   "execution_count": 193,
   "metadata": {
    "collapsed": false,
    "scrolled": true
   },
   "outputs": [
    {
     "name": "stdout",
     "output_type": "stream",
     "text": [
      "train_question1 is 24.7% complete.\n",
      "train_question1 is 49.5% complete.\n",
      "train_question1 is 74.2% complete.\n",
      "train_question1 is 98.9% complete.\n"
     ]
    }
   ],
   "source": [
    "train_question1 = []\n",
    "process_questions(train_question1, train.question1, 'train_question1', train)"
   ]
  },
  {
   "cell_type": "code",
   "execution_count": 194,
   "metadata": {
    "collapsed": false
   },
   "outputs": [
    {
     "name": "stdout",
     "output_type": "stream",
     "text": [
      "train_question2 is 24.7% complete.\n",
      "train_question2 is 49.5% complete.\n",
      "train_question2 is 74.2% complete.\n",
      "train_question2 is 98.9% complete.\n"
     ]
    }
   ],
   "source": [
    "train_question2 = []\n",
    "process_questions(train_question2, train.question2, 'train_question2', train)"
   ]
  },
  {
   "cell_type": "code",
   "execution_count": 165,
   "metadata": {
    "collapsed": false
   },
   "outputs": [
    {
     "name": "stdout",
     "output_type": "stream",
     "text": [
      "test_question1 is 4.3% complete.\n",
      "test_question1 is 8.5% complete.\n",
      "test_question1 is 12.8% complete.\n",
      "test_question1 is 17.1% complete.\n",
      "test_question1 is 21.3% complete.\n",
      "test_question1 is 25.6% complete.\n",
      "test_question1 is 29.8% complete.\n",
      "test_question1 is 34.1% complete.\n",
      "test_question1 is 38.4% complete.\n",
      "test_question1 is 42.6% complete.\n",
      "test_question1 is 46.9% complete.\n",
      "test_question1 is 51.2% complete.\n",
      "test_question1 is 55.4% complete.\n",
      "test_question1 is 59.7% complete.\n",
      "test_question1 is 63.9% complete.\n",
      "test_question1 is 68.2% complete.\n",
      "test_question1 is 72.5% complete.\n",
      "test_question1 is 76.7% complete.\n",
      "test_question1 is 81.0% complete.\n",
      "test_question1 is 85.3% complete.\n",
      "test_question1 is 89.5% complete.\n",
      "test_question1 is 93.8% complete.\n",
      "test_question1 is 98.0% complete.\n"
     ]
    }
   ],
   "source": [
    "test_question1 = []\n",
    "process_questions(test_question1, test.question1, 'test_question1', test)"
   ]
  },
  {
   "cell_type": "code",
   "execution_count": 166,
   "metadata": {
    "collapsed": false
   },
   "outputs": [
    {
     "name": "stdout",
     "output_type": "stream",
     "text": [
      "test_question2 is 4.3% complete.\n",
      "test_question2 is 8.5% complete.\n",
      "test_question2 is 12.8% complete.\n",
      "test_question2 is 17.1% complete.\n",
      "test_question2 is 21.3% complete.\n",
      "test_question2 is 25.6% complete.\n",
      "test_question2 is 29.8% complete.\n",
      "test_question2 is 34.1% complete.\n",
      "test_question2 is 38.4% complete.\n",
      "test_question2 is 42.6% complete.\n",
      "test_question2 is 46.9% complete.\n",
      "test_question2 is 51.2% complete.\n",
      "test_question2 is 55.4% complete.\n",
      "test_question2 is 59.7% complete.\n",
      "test_question2 is 63.9% complete.\n",
      "test_question2 is 68.2% complete.\n",
      "test_question2 is 72.5% complete.\n",
      "test_question2 is 76.7% complete.\n",
      "test_question2 is 81.0% complete.\n",
      "test_question2 is 85.3% complete.\n",
      "test_question2 is 89.5% complete.\n",
      "test_question2 is 93.8% complete.\n",
      "test_question2 is 98.0% complete.\n"
     ]
    }
   ],
   "source": [
    "test_question2 = []\n",
    "process_questions(test_question2, test.question2, 'test_question2', test)"
   ]
  },
  {
   "cell_type": "code",
   "execution_count": 195,
   "metadata": {
    "collapsed": false
   },
   "outputs": [
    {
     "name": "stdout",
     "output_type": "stream",
     "text": [
      "what is the step by step guide to invest in share market in India \n",
      "what is the step by step guide to invest in share market \n",
      "\n",
      "what is the story of kohinoor koh - i - noor diamond \n",
      "what would happen if the Indian government stole the kohinoor koh - i - noor diamond back \n",
      "\n",
      "how can i increase the speed of my internet connection while using a vpn \n",
      "how can internet speed be increased by hacking through dns \n",
      "\n",
      "why am i mentally very lonely how can i solve it \n",
      "find the remainder when math 23 ^ 24 math is divided by 24 23 \n",
      "\n",
      "which one dissolve in water quickly sugar salt methane and carbon di oxide \n",
      "which fish would survive in salt water \n",
      "\n",
      "astrology i am a capricorn sun cap moon and cap rising what does that say about me \n",
      "i am a triple capricorn sun moon and ascendant in capricorn what does this say about me \n",
      "\n",
      "should i buy tiago \n",
      "what keeps childern active and far from phone and video games \n",
      "\n",
      "how can i be a good geologist \n",
      "what should i do to be a great geologist \n",
      "\n",
      "when do you use instead of \n",
      "when do you use instead of and \n",
      "\n",
      "motorola company can i hack my charter motorolla dcx3400 \n",
      "how do i hack motorola dcx3400 for free internet \n",
      "\n"
     ]
    }
   ],
   "source": [
    "# Preview some transformed pairs of questions\n",
    "i = 0\n",
    "for i in range(i,i+10):\n",
    "    print(train_question1[i])\n",
    "    print(train_question2[i])\n",
    "    print()"
   ]
  },
  {
   "cell_type": "code",
   "execution_count": 167,
   "metadata": {
    "collapsed": false
   },
   "outputs": [
    {
     "name": "stdout",
     "output_type": "stream",
     "text": [
      "train_question1 is complete.\n",
      "train_question2 is complete\n",
      "test_question1 is complete.\n",
      "test_question2 is complete\n",
      "Total number of unique tokens: 4783127\n"
     ]
    }
   ],
   "source": [
    "# Count the number of unique tokens in the questions\n",
    "token_count = defaultdict(int)\n",
    "\n",
    "for question in train_question1:\n",
    "    token_count[question] += 1\n",
    "print(\"train_question1 is complete.\")\n",
    "    \n",
    "for question in train_question2:\n",
    "    token_count[question] += 1\n",
    "print(\"train_question2 is complete\")\n",
    "\n",
    "for question in test_question1:\n",
    "    token_count[question] += 1\n",
    "print(\"test_question1 is complete.\")\n",
    "\n",
    "for question in test_question2:\n",
    "    token_count[question] += 1\n",
    "print(\"test_question2 is complete\")\n",
    "\n",
    "print(\"Total number of unique tokens:\", len(token_count)) #4,780,591"
   ]
  },
  {
   "cell_type": "code",
   "execution_count": 168,
   "metadata": {
    "collapsed": true
   },
   "outputs": [],
   "source": [
    "# Find the length of questions\n",
    "lengths = []\n",
    "for question in train_question1:\n",
    "    lengths.append(len(question.split()))\n",
    "\n",
    "for question in train_question2:\n",
    "    lengths.append(len(question.split()))\n",
    "\n",
    "# Create a dataframe so that the values can be inspected\n",
    "lengths = pd.DataFrame(lengths, columns=['counts'])"
   ]
  },
  {
   "cell_type": "code",
   "execution_count": 169,
   "metadata": {
    "collapsed": false
   },
   "outputs": [
    {
     "data": {
      "text/plain": [
       "count    808580.000000\n",
       "mean         11.259242\n",
       "std           6.077335\n",
       "min           0.000000\n",
       "25%           7.000000\n",
       "50%          10.000000\n",
       "75%          13.000000\n",
       "max         244.000000\n",
       "Name: counts, dtype: float64"
      ]
     },
     "execution_count": 169,
     "metadata": {},
     "output_type": "execute_result"
    }
   ],
   "source": [
    "lengths.counts.describe()"
   ]
  },
  {
   "cell_type": "code",
   "execution_count": 170,
   "metadata": {
    "collapsed": false
   },
   "outputs": [
    {
     "name": "stdout",
     "output_type": "stream",
     "text": [
      "32.0\n",
      "35.0\n",
      "37.0\n",
      "53.0\n"
     ]
    }
   ],
   "source": [
    "print(np.percentile(lengths.counts, 99.0))\n",
    "print(np.percentile(lengths.counts, 99.4))\n",
    "print(np.percentile(lengths.counts, 99.5))\n",
    "print(np.percentile(lengths.counts, 99.9))"
   ]
  },
  {
   "cell_type": "code",
   "execution_count": 171,
   "metadata": {
    "collapsed": false
   },
   "outputs": [
    {
     "name": "stdout",
     "output_type": "stream",
     "text": [
      "Fitting is complete.\n",
      "train_question1 is complete.\n",
      "train_question2 is complete\n"
     ]
    }
   ],
   "source": [
    "# tokenize the 200,000 most common words for all of the questions\n",
    "num_words = 200000\n",
    "\n",
    "all_questions = train_question1 + train_question2 + test_question1 + test_question2\n",
    "tokenizer = Tokenizer(num_words = num_words)\n",
    "tokenizer.fit_on_texts(all_questions)\n",
    "print(\"Fitting is complete.\")\n",
    "train_question1_word_sequences = tokenizer.texts_to_sequences(train_question1)\n",
    "print(\"train_question1 is complete.\")\n",
    "train_question2_word_sequences = tokenizer.texts_to_sequences(train_question2)\n",
    "print(\"train_question2 is complete\")"
   ]
  },
  {
   "cell_type": "code",
   "execution_count": 172,
   "metadata": {
    "collapsed": false
   },
   "outputs": [
    {
     "name": "stdout",
     "output_type": "stream",
     "text": [
      "test_question1 is complete.\n",
      "test_question2 is complete.\n"
     ]
    }
   ],
   "source": [
    "test_question1_word_sequences = tokenizer.texts_to_sequences(test_question1)\n",
    "print(\"test_question1 is complete.\")\n",
    "test_question2_word_sequences = tokenizer.texts_to_sequences(test_question2)\n",
    "print(\"test_question2 is complete.\")"
   ]
  },
  {
   "cell_type": "code",
   "execution_count": 173,
   "metadata": {
    "collapsed": false
   },
   "outputs": [
    {
     "name": "stdout",
     "output_type": "stream",
     "text": [
      "Words in index: 120588\n"
     ]
    }
   ],
   "source": [
    "word_index = tokenizer.word_index\n",
    "print(\"Words in index: %d\" % len(word_index))"
   ]
  },
  {
   "cell_type": "code",
   "execution_count": 174,
   "metadata": {
    "collapsed": false
   },
   "outputs": [
    {
     "name": "stdout",
     "output_type": "stream",
     "text": [
      "train_q1 is complete.\n",
      "train_q2 is complete.\n"
     ]
    }
   ],
   "source": [
    "# Pad the questions so that they all have the same length.\n",
    "\n",
    "max_question_len = 36\n",
    "\n",
    "train_q1 = pad_sequences(train_question1_word_sequences, \n",
    "                              maxlen = max_question_len,\n",
    "                              padding = 'post',\n",
    "                              truncating = 'post')\n",
    "print(\"train_q1 is complete.\")\n",
    "\n",
    "train_q2 = pad_sequences(train_question2_word_sequences, \n",
    "                              maxlen = max_question_len,\n",
    "                              padding = 'post',\n",
    "                              truncating = 'post')\n",
    "print(\"train_q2 is complete.\")"
   ]
  },
  {
   "cell_type": "code",
   "execution_count": 175,
   "metadata": {
    "collapsed": false
   },
   "outputs": [
    {
     "name": "stdout",
     "output_type": "stream",
     "text": [
      "test_q1 is complete.\n",
      "test_q2 is complete.\n"
     ]
    }
   ],
   "source": [
    "test_q1 = pad_sequences(test_question1_word_sequences, \n",
    "                             maxlen = max_question_len,\n",
    "                             padding = 'post',\n",
    "                             truncating = 'post')\n",
    "print(\"test_q1 is complete.\")\n",
    "\n",
    "test_q2 = pad_sequences(test_question2_word_sequences, \n",
    "                             maxlen = max_question_len,\n",
    "                             padding = 'post',\n",
    "                             truncating = 'post')\n",
    "print(\"test_q2 is complete.\")"
   ]
  },
  {
   "cell_type": "code",
   "execution_count": 30,
   "metadata": {
    "collapsed": false
   },
   "outputs": [],
   "source": [
    "y_train = train.is_duplicate"
   ]
  },
  {
   "cell_type": "code",
   "execution_count": 31,
   "metadata": {
    "collapsed": false
   },
   "outputs": [
    {
     "name": "stdout",
     "output_type": "stream",
     "text": [
      "Word embeddings: 151250\n"
     ]
    }
   ],
   "source": [
    "# Load GloVe to use pretrained vectors\n",
    "# From this link: https://nlp.stanford.edu/projects/glove/\n",
    "embeddings_index = {}\n",
    "with open('glove.840B.300d.txt', encoding='utf-8') as f:\n",
    "    for line in f:\n",
    "        values = line.split(' ')\n",
    "        word = values[0]\n",
    "        embedding = np.asarray(values[1:], dtype='float32')\n",
    "        embeddings_index[word] = embedding\n",
    "\n",
    "print('Word embeddings:', len(embeddings_index)) #151,250"
   ]
  },
  {
   "cell_type": "code",
   "execution_count": 176,
   "metadata": {
    "collapsed": false
   },
   "outputs": [
    {
     "name": "stdout",
     "output_type": "stream",
     "text": [
      "Null word embeddings: 75386\n"
     ]
    }
   ],
   "source": [
    "# Need to use 300 for embedding dimensions to match GloVe's vectors.\n",
    "embedding_dim = 300\n",
    "\n",
    "nb_words = len(word_index)\n",
    "word_embedding_matrix = np.zeros((nb_words + 1, embedding_dim))\n",
    "for word, i in word_index.items():\n",
    "    embedding_vector = embeddings_index.get(word)\n",
    "    if embedding_vector is not None:\n",
    "        # words not found in embedding index will be all-zeros.\n",
    "        word_embedding_matrix[i] = embedding_vector\n",
    "\n",
    "print('Null word embeddings: %d' % np.sum(np.sum(word_embedding_matrix, axis=1) == 0)) #75,334"
   ]
  },
  {
   "cell_type": "code",
   "execution_count": 177,
   "metadata": {
    "collapsed": false
   },
   "outputs": [
    {
     "name": "stderr",
     "output_type": "stream",
     "text": [
      "//anaconda/lib/python3.5/site-packages/ipykernel/__main__.py:90: UserWarning: The `Merge` layer is deprecated and will be removed after 08/2017. Use instead layers from `keras.layers.merge`, e.g. `add`, `concatenate`, etc.\n",
      "//anaconda/lib/python3.5/site-packages/ipykernel/__main__.py:102: UserWarning: The `Merge` layer is deprecated and will be removed after 08/2017. Use instead layers from `keras.layers.merge`, e.g. `add`, `concatenate`, etc.\n",
      "//anaconda/lib/python3.5/site-packages/ipykernel/__main__.py:116: UserWarning: The `Merge` layer is deprecated and will be removed after 08/2017. Use instead layers from `keras.layers.merge`, e.g. `add`, `concatenate`, etc.\n"
     ]
    }
   ],
   "source": [
    "units = 128 # Number of nodes in the Dense layers\n",
    "dropout = 0.25 # Percentage of nodes to drop\n",
    "nb_filter = 32 # Number of filters to use in Convolution1D\n",
    "filter_length = 3 # Length of filter for Convolution1D\n",
    "# Initialize weights and biases for the Dense layers\n",
    "weights = initializers.TruncatedNormal(mean=0.0, stddev=0.05, seed=2)\n",
    "bias = bias_initializer='zeros'\n",
    "\n",
    "model1 = Sequential()\n",
    "model1.add(Embedding(nb_words + 1,\n",
    "                     embedding_dim,\n",
    "                     weights = [word_embedding_matrix],\n",
    "                     input_length = max_question_len,\n",
    "                     trainable = False))\n",
    "\n",
    "model1.add(Convolution1D(filters = nb_filter, \n",
    "                         kernel_size = filter_length, \n",
    "                         padding = 'same'))\n",
    "model1.add(BatchNormalization())\n",
    "model1.add(Activation('relu'))\n",
    "model1.add(Dropout(dropout))\n",
    "\n",
    "model1.add(Convolution1D(filters = nb_filter, \n",
    "                         kernel_size = filter_length, \n",
    "                         padding = 'same'))\n",
    "model1.add(BatchNormalization())\n",
    "model1.add(Activation('relu'))\n",
    "model1.add(Dropout(dropout))\n",
    "\n",
    "model1.add(Flatten())\n",
    "\n",
    "\n",
    "\n",
    "model2 = Sequential()\n",
    "model2.add(Embedding(nb_words + 1,\n",
    "                     embedding_dim,\n",
    "                     weights = [word_embedding_matrix],\n",
    "                     input_length = max_question_len,\n",
    "                     trainable = False))\n",
    "\n",
    "model2.add(Convolution1D(filters = nb_filter, \n",
    "                         kernel_size = filter_length, \n",
    "                         padding = 'same'))\n",
    "model2.add(BatchNormalization())\n",
    "model2.add(Activation('relu'))\n",
    "model2.add(Dropout(dropout))\n",
    "\n",
    "model2.add(Convolution1D(filters = nb_filter, \n",
    "                         kernel_size = filter_length, \n",
    "                         padding = 'same'))\n",
    "model2.add(BatchNormalization())\n",
    "model2.add(Activation('relu'))\n",
    "model2.add(Dropout(dropout))\n",
    "\n",
    "model2.add(Flatten())\n",
    "\n",
    "\n",
    "\n",
    "model3 = Sequential()\n",
    "model3.add(Embedding(nb_words + 1,\n",
    "                     embedding_dim,\n",
    "                     weights = [word_embedding_matrix],\n",
    "                     input_length = max_question_len,\n",
    "                     trainable = False))\n",
    "model3.add(TimeDistributed(Dense(embedding_dim)))\n",
    "model3.add(BatchNormalization())\n",
    "model3.add(Activation('relu'))\n",
    "model3.add(Dropout(dropout))\n",
    "model3.add(Lambda(lambda x: K.max(x, axis=1), output_shape=(embedding_dim, )))\n",
    "\n",
    "\n",
    "\n",
    "model4 = Sequential()\n",
    "model4.add(Embedding(nb_words + 1,\n",
    "                     embedding_dim,\n",
    "                     weights = [word_embedding_matrix],\n",
    "                     input_length = max_question_len,\n",
    "                     trainable = False))\n",
    "\n",
    "model4.add(TimeDistributed(Dense(embedding_dim)))\n",
    "model4.add(BatchNormalization())\n",
    "model4.add(Activation('relu'))\n",
    "model4.add(Dropout(dropout))\n",
    "model4.add(Lambda(lambda x: K.max(x, axis=1), output_shape=(embedding_dim, )))\n",
    "\n",
    "\n",
    "\n",
    "\n",
    "modela = Sequential()\n",
    "modela.add(Merge([model1, model2], mode='concat'))\n",
    "modela.add(Dense(units*2, kernel_initializer=weights, bias_initializer=bias))\n",
    "modela.add(BatchNormalization())\n",
    "modela.add(Activation('relu'))\n",
    "modela.add(Dropout(dropout))\n",
    "\n",
    "modela.add(Dense(units, kernel_initializer=weights, bias_initializer=bias))\n",
    "modela.add(BatchNormalization())\n",
    "modela.add(Activation('relu'))\n",
    "modela.add(Dropout(dropout))\n",
    "\n",
    "modelb = Sequential()\n",
    "modelb.add(Merge([model3, model4], mode='concat'))\n",
    "modelb.add(Dense(units*2, kernel_initializer=weights, bias_initializer=bias))\n",
    "modelb.add(BatchNormalization())\n",
    "modelb.add(Activation('relu'))\n",
    "modelb.add(Dropout(dropout))\n",
    "\n",
    "modelb.add(Dense(units, kernel_initializer=weights, bias_initializer=bias))\n",
    "modelb.add(BatchNormalization())\n",
    "modelb.add(Activation('relu'))\n",
    "modelb.add(Dropout(dropout))\n",
    "\n",
    "\n",
    "\n",
    "model = Sequential()\n",
    "model.add(Merge([modela, modelb], mode='concat'))\n",
    "model.add(Dense(units*2, kernel_initializer=weights, bias_initializer=bias))\n",
    "model.add(BatchNormalization())\n",
    "model.add(Activation('relu'))\n",
    "model.add(Dropout(dropout))\n",
    "\n",
    "model.add(Dense(units, kernel_initializer=weights, bias_initializer=bias))\n",
    "model.add(BatchNormalization())\n",
    "model.add(Activation('relu'))\n",
    "model.add(Dropout(dropout))\n",
    "\n",
    "model.add(Dense(units, kernel_initializer=weights, bias_initializer=bias))\n",
    "model.add(BatchNormalization())\n",
    "model.add(Activation('relu'))\n",
    "model.add(Dropout(dropout))\n",
    "\n",
    "model.add(Dense(1, kernel_initializer=weights, bias_initializer=bias))\n",
    "model.add(BatchNormalization())\n",
    "model.add(Activation('sigmoid'))\n",
    "\n",
    "model.compile(loss='binary_crossentropy', optimizer='adam', metrics=['accuracy'])"
   ]
  },
  {
   "cell_type": "code",
   "execution_count": 178,
   "metadata": {
    "collapsed": false,
    "scrolled": true
   },
   "outputs": [
    {
     "name": "stdout",
     "output_type": "stream",
     "text": [
      "Train on 343646 samples, validate on 60644 samples\n",
      "Epoch 1/100\n",
      "343646/343646 [==============================] - 1805s - loss: 0.5381 - acc: 0.7265 - val_loss: 0.4960 - val_acc: 0.7489\n",
      "Epoch 2/100\n",
      "343646/343646 [==============================] - 1639s - loss: 0.4645 - acc: 0.7724 - val_loss: 0.4445 - val_acc: 0.7851\n",
      "Epoch 3/100\n",
      "343646/343646 [==============================] - 1580s - loss: 0.4351 - acc: 0.7889 - val_loss: 0.4259 - val_acc: 0.7931\n",
      "Epoch 4/100\n",
      "343646/343646 [==============================] - 1582s - loss: 0.4147 - acc: 0.8007 - val_loss: 0.4236 - val_acc: 0.7914\n",
      "Epoch 5/100\n",
      "343646/343646 [==============================] - 1589s - loss: 0.4001 - acc: 0.8102 - val_loss: 0.4056 - val_acc: 0.8048\n",
      "Epoch 6/100\n",
      "343646/343646 [==============================] - 1593s - loss: 0.3864 - acc: 0.8177 - val_loss: 0.3878 - val_acc: 0.8143\n",
      "Epoch 7/100\n",
      "343646/343646 [==============================] - 1600s - loss: 0.3751 - acc: 0.8247 - val_loss: 0.4020 - val_acc: 0.8047\n",
      "Epoch 8/100\n",
      "343646/343646 [==============================] - 1598s - loss: 0.3639 - acc: 0.8311 - val_loss: 0.3936 - val_acc: 0.8089\n",
      "Epoch 9/100\n",
      "343646/343646 [==============================] - 1596s - loss: 0.3541 - acc: 0.8362 - val_loss: 0.3915 - val_acc: 0.8128\n",
      "Epoch 10/100\n",
      "343646/343646 [==============================] - 1597s - loss: 0.3471 - acc: 0.8401 - val_loss: 0.3769 - val_acc: 0.8224\n",
      "Epoch 11/100\n",
      "343646/343646 [==============================] - 1596s - loss: 0.3389 - acc: 0.8457 - val_loss: 0.3788 - val_acc: 0.8205\n",
      "Epoch 12/100\n",
      "343646/343646 [==============================] - 1596s - loss: 0.3315 - acc: 0.8494 - val_loss: 0.3811 - val_acc: 0.8175\n",
      "Epoch 13/100\n",
      "343646/343646 [==============================] - 1598s - loss: 0.3249 - acc: 0.8528 - val_loss: 0.3734 - val_acc: 0.8216\n",
      "Epoch 14/100\n",
      "343646/343646 [==============================] - 1598s - loss: 0.3193 - acc: 0.8554 - val_loss: 0.3760 - val_acc: 0.8219\n",
      "Epoch 15/100\n",
      "343646/343646 [==============================] - 1598s - loss: 0.3133 - acc: 0.8594 - val_loss: 0.3771 - val_acc: 0.8199\n",
      "Epoch 16/100\n",
      "343646/343646 [==============================] - 1599s - loss: 0.3089 - acc: 0.8610 - val_loss: 0.3773 - val_acc: 0.8201\n",
      "Epoch 17/100\n",
      "343646/343646 [==============================] - 1597s - loss: 0.3033 - acc: 0.8646 - val_loss: 0.3937 - val_acc: 0.8106\n",
      "Epoch 18/100\n",
      "343646/343646 [==============================] - 1597s - loss: 0.2992 - acc: 0.8661 - val_loss: 0.3822 - val_acc: 0.8167\n",
      "Epoch 19/100\n",
      "343646/343646 [==============================] - 1597s - loss: 0.2955 - acc: 0.8680 - val_loss: 0.3828 - val_acc: 0.8190\n",
      "Epoch 00018: early stopping\n",
      "Minutes elapsed: 509.609739\n"
     ]
    }
   ],
   "source": [
    "# save the best weights for predicting the test question pairs\n",
    "save_best_weights = 'question_pairs_weights.h5'\n",
    "\n",
    "t0 = time.time()\n",
    "callbacks = [ModelCheckpoint(save_best_weights, monitor='val_loss', save_best_only=True),\n",
    "             EarlyStopping(monitor='val_loss', patience=5, verbose=1, mode='auto')]\n",
    "history = model.fit([train_q1, train_q2, train_q1, train_q2],\n",
    "                    y_train,\n",
    "                    batch_size=256,\n",
    "                    epochs=100,\n",
    "                    validation_split=0.15,\n",
    "                    verbose=True,\n",
    "                    shuffle=True,\n",
    "                    callbacks=callbacks)\n",
    "t1 = time.time()\n",
    "print(\"Minutes elapsed: %f\" % ((t1 - t0) / 60.))"
   ]
  },
  {
   "cell_type": "code",
   "execution_count": 179,
   "metadata": {
    "collapsed": false
   },
   "outputs": [],
   "source": [
    "# Aggregate the summary statistics\n",
    "summary_stats = pd.DataFrame({'epoch': [ i + 1 for i in history.epoch ],\n",
    "                              'train_acc': history.history['acc'],\n",
    "                              'valid_acc': history.history['val_acc'],\n",
    "                              'train_loss': history.history['loss'],\n",
    "                              'valid_loss': history.history['val_loss']})"
   ]
  },
  {
   "cell_type": "code",
   "execution_count": 180,
   "metadata": {
    "collapsed": false
   },
   "outputs": [
    {
     "data": {
      "text/html": [
       "<div>\n",
       "<table border=\"1\" class=\"dataframe\">\n",
       "  <thead>\n",
       "    <tr style=\"text-align: right;\">\n",
       "      <th></th>\n",
       "      <th>epoch</th>\n",
       "      <th>train_acc</th>\n",
       "      <th>train_loss</th>\n",
       "      <th>valid_acc</th>\n",
       "      <th>valid_loss</th>\n",
       "    </tr>\n",
       "  </thead>\n",
       "  <tbody>\n",
       "    <tr>\n",
       "      <th>0</th>\n",
       "      <td>1</td>\n",
       "      <td>0.726515</td>\n",
       "      <td>0.538137</td>\n",
       "      <td>0.748912</td>\n",
       "      <td>0.495959</td>\n",
       "    </tr>\n",
       "    <tr>\n",
       "      <th>1</th>\n",
       "      <td>2</td>\n",
       "      <td>0.772367</td>\n",
       "      <td>0.464475</td>\n",
       "      <td>0.785140</td>\n",
       "      <td>0.444471</td>\n",
       "    </tr>\n",
       "    <tr>\n",
       "      <th>2</th>\n",
       "      <td>3</td>\n",
       "      <td>0.788908</td>\n",
       "      <td>0.435145</td>\n",
       "      <td>0.793121</td>\n",
       "      <td>0.425925</td>\n",
       "    </tr>\n",
       "    <tr>\n",
       "      <th>3</th>\n",
       "      <td>4</td>\n",
       "      <td>0.800658</td>\n",
       "      <td>0.414688</td>\n",
       "      <td>0.791373</td>\n",
       "      <td>0.423571</td>\n",
       "    </tr>\n",
       "    <tr>\n",
       "      <th>4</th>\n",
       "      <td>5</td>\n",
       "      <td>0.810215</td>\n",
       "      <td>0.400064</td>\n",
       "      <td>0.804795</td>\n",
       "      <td>0.405567</td>\n",
       "    </tr>\n",
       "    <tr>\n",
       "      <th>5</th>\n",
       "      <td>6</td>\n",
       "      <td>0.817748</td>\n",
       "      <td>0.386420</td>\n",
       "      <td>0.814260</td>\n",
       "      <td>0.387757</td>\n",
       "    </tr>\n",
       "    <tr>\n",
       "      <th>6</th>\n",
       "      <td>7</td>\n",
       "      <td>0.824686</td>\n",
       "      <td>0.375122</td>\n",
       "      <td>0.804713</td>\n",
       "      <td>0.402002</td>\n",
       "    </tr>\n",
       "    <tr>\n",
       "      <th>7</th>\n",
       "      <td>8</td>\n",
       "      <td>0.831082</td>\n",
       "      <td>0.363883</td>\n",
       "      <td>0.808918</td>\n",
       "      <td>0.393636</td>\n",
       "    </tr>\n",
       "    <tr>\n",
       "      <th>8</th>\n",
       "      <td>9</td>\n",
       "      <td>0.836221</td>\n",
       "      <td>0.354138</td>\n",
       "      <td>0.812776</td>\n",
       "      <td>0.391497</td>\n",
       "    </tr>\n",
       "    <tr>\n",
       "      <th>9</th>\n",
       "      <td>10</td>\n",
       "      <td>0.840120</td>\n",
       "      <td>0.347141</td>\n",
       "      <td>0.822357</td>\n",
       "      <td>0.376932</td>\n",
       "    </tr>\n",
       "    <tr>\n",
       "      <th>10</th>\n",
       "      <td>11</td>\n",
       "      <td>0.845728</td>\n",
       "      <td>0.338878</td>\n",
       "      <td>0.820460</td>\n",
       "      <td>0.378785</td>\n",
       "    </tr>\n",
       "    <tr>\n",
       "      <th>11</th>\n",
       "      <td>12</td>\n",
       "      <td>0.849412</td>\n",
       "      <td>0.331472</td>\n",
       "      <td>0.817542</td>\n",
       "      <td>0.381079</td>\n",
       "    </tr>\n",
       "    <tr>\n",
       "      <th>12</th>\n",
       "      <td>13</td>\n",
       "      <td>0.852753</td>\n",
       "      <td>0.324900</td>\n",
       "      <td>0.821631</td>\n",
       "      <td>0.373406</td>\n",
       "    </tr>\n",
       "    <tr>\n",
       "      <th>13</th>\n",
       "      <td>14</td>\n",
       "      <td>0.855372</td>\n",
       "      <td>0.319340</td>\n",
       "      <td>0.821895</td>\n",
       "      <td>0.376048</td>\n",
       "    </tr>\n",
       "    <tr>\n",
       "      <th>14</th>\n",
       "      <td>15</td>\n",
       "      <td>0.859437</td>\n",
       "      <td>0.313291</td>\n",
       "      <td>0.819949</td>\n",
       "      <td>0.377115</td>\n",
       "    </tr>\n",
       "    <tr>\n",
       "      <th>15</th>\n",
       "      <td>16</td>\n",
       "      <td>0.860964</td>\n",
       "      <td>0.308889</td>\n",
       "      <td>0.820098</td>\n",
       "      <td>0.377311</td>\n",
       "    </tr>\n",
       "    <tr>\n",
       "      <th>16</th>\n",
       "      <td>17</td>\n",
       "      <td>0.864622</td>\n",
       "      <td>0.303282</td>\n",
       "      <td>0.810600</td>\n",
       "      <td>0.393699</td>\n",
       "    </tr>\n",
       "    <tr>\n",
       "      <th>17</th>\n",
       "      <td>18</td>\n",
       "      <td>0.866092</td>\n",
       "      <td>0.299240</td>\n",
       "      <td>0.816668</td>\n",
       "      <td>0.382214</td>\n",
       "    </tr>\n",
       "    <tr>\n",
       "      <th>18</th>\n",
       "      <td>19</td>\n",
       "      <td>0.867980</td>\n",
       "      <td>0.295480</td>\n",
       "      <td>0.819026</td>\n",
       "      <td>0.382761</td>\n",
       "    </tr>\n",
       "  </tbody>\n",
       "</table>\n",
       "</div>"
      ],
      "text/plain": [
       "    epoch  train_acc  train_loss  valid_acc  valid_loss\n",
       "0       1   0.726515    0.538137   0.748912    0.495959\n",
       "1       2   0.772367    0.464475   0.785140    0.444471\n",
       "2       3   0.788908    0.435145   0.793121    0.425925\n",
       "3       4   0.800658    0.414688   0.791373    0.423571\n",
       "4       5   0.810215    0.400064   0.804795    0.405567\n",
       "5       6   0.817748    0.386420   0.814260    0.387757\n",
       "6       7   0.824686    0.375122   0.804713    0.402002\n",
       "7       8   0.831082    0.363883   0.808918    0.393636\n",
       "8       9   0.836221    0.354138   0.812776    0.391497\n",
       "9      10   0.840120    0.347141   0.822357    0.376932\n",
       "10     11   0.845728    0.338878   0.820460    0.378785\n",
       "11     12   0.849412    0.331472   0.817542    0.381079\n",
       "12     13   0.852753    0.324900   0.821631    0.373406\n",
       "13     14   0.855372    0.319340   0.821895    0.376048\n",
       "14     15   0.859437    0.313291   0.819949    0.377115\n",
       "15     16   0.860964    0.308889   0.820098    0.377311\n",
       "16     17   0.864622    0.303282   0.810600    0.393699\n",
       "17     18   0.866092    0.299240   0.816668    0.382214\n",
       "18     19   0.867980    0.295480   0.819026    0.382761"
      ]
     },
     "execution_count": 180,
     "metadata": {},
     "output_type": "execute_result"
    }
   ],
   "source": [
    "summary_stats"
   ]
  },
  {
   "cell_type": "code",
   "execution_count": 181,
   "metadata": {
    "collapsed": false
   },
   "outputs": [
    {
     "data": {
      "image/png": "[encoded data removed]",
      "text/plain": [
       "<matplotlib.figure.Figure at 0x154a87630>"
      ]
     },
     "metadata": {},
     "output_type": "display_data"
    }
   ],
   "source": [
    "plt.plot(summary_stats.train_loss) # blue\n",
    "plt.plot(summary_stats.valid_loss) # green\n",
    "plt.show()"
   ]
  },
  {
   "cell_type": "code",
   "execution_count": 182,
   "metadata": {
    "collapsed": false
   },
   "outputs": [
    {
     "name": "stdout",
     "output_type": "stream",
     "text": [
      "Minimum loss at epoch 13 = 0.3734\n"
     ]
    }
   ],
   "source": [
    "# Find the minimum validation loss during the training\n",
    "min_loss, idx = min((loss, idx) for (idx, loss) in enumerate(history.history['val_loss']))\n",
    "print('Minimum loss at epoch', '{:d}'.format(idx+1), '=', '{:.4f}'.format(min_loss))\n",
    "min_loss = round(min_loss, 4)"
   ]
  },
  {
   "cell_type": "code",
   "execution_count": 183,
   "metadata": {
    "collapsed": false
   },
   "outputs": [
    {
     "name": "stdout",
     "output_type": "stream",
     "text": [
      "2345792/2345796 [============================>.] - ETA: 0s"
     ]
    }
   ],
   "source": [
    "# Make predictions with the best weights\n",
    "model.load_weights(save_best_weights)\n",
    "predictions = model.predict([test_q1, test_q2, test_q1, test_q2], verbose = True)"
   ]
  },
  {
   "cell_type": "code",
   "execution_count": 184,
   "metadata": {
    "collapsed": true
   },
   "outputs": [],
   "source": [
    "#Create submission\n",
    "submission = pd.DataFrame(predictions, columns=['is_duplicate'])\n",
    "submission.insert(0, 'test_id', test.test_id)\n",
    "file_name = 'submission_{}.csv'.format(min_loss)\n",
    "submission.to_csv(file_name, index=False)"
   ]
  },
  {
   "cell_type": "code",
   "execution_count": 185,
   "metadata": {
    "collapsed": false
   },
   "outputs": [
    {
     "data": {
      "text/html": [
       "<div>\n",
       "<table border=\"1\" class=\"dataframe\">\n",
       "  <thead>\n",
       "    <tr style=\"text-align: right;\">\n",
       "      <th></th>\n",
       "      <th>test_id</th>\n",
       "      <th>is_duplicate</th>\n",
       "    </tr>\n",
       "  </thead>\n",
       "  <tbody>\n",
       "    <tr>\n",
       "      <th>0</th>\n",
       "      <td>0</td>\n",
       "      <td>0.054217</td>\n",
       "    </tr>\n",
       "    <tr>\n",
       "      <th>1</th>\n",
       "      <td>1</td>\n",
       "      <td>0.093852</td>\n",
       "    </tr>\n",
       "    <tr>\n",
       "      <th>2</th>\n",
       "      <td>2</td>\n",
       "      <td>0.817997</td>\n",
       "    </tr>\n",
       "    <tr>\n",
       "      <th>3</th>\n",
       "      <td>3</td>\n",
       "      <td>0.087583</td>\n",
       "    </tr>\n",
       "    <tr>\n",
       "      <th>4</th>\n",
       "      <td>4</td>\n",
       "      <td>0.496896</td>\n",
       "    </tr>\n",
       "    <tr>\n",
       "      <th>5</th>\n",
       "      <td>5</td>\n",
       "      <td>0.019695</td>\n",
       "    </tr>\n",
       "    <tr>\n",
       "      <th>6</th>\n",
       "      <td>6</td>\n",
       "      <td>0.902416</td>\n",
       "    </tr>\n",
       "    <tr>\n",
       "      <th>7</th>\n",
       "      <td>7</td>\n",
       "      <td>0.959842</td>\n",
       "    </tr>\n",
       "    <tr>\n",
       "      <th>8</th>\n",
       "      <td>8</td>\n",
       "      <td>0.918632</td>\n",
       "    </tr>\n",
       "    <tr>\n",
       "      <th>9</th>\n",
       "      <td>9</td>\n",
       "      <td>0.205630</td>\n",
       "    </tr>\n",
       "  </tbody>\n",
       "</table>\n",
       "</div>"
      ],
      "text/plain": [
       "   test_id  is_duplicate\n",
       "0        0      0.054217\n",
       "1        1      0.093852\n",
       "2        2      0.817997\n",
       "3        3      0.087583\n",
       "4        4      0.496896\n",
       "5        5      0.019695\n",
       "6        6      0.902416\n",
       "7        7      0.959842\n",
       "8        8      0.918632\n",
       "9        9      0.205630"
      ]
     },
     "execution_count": 185,
     "metadata": {},
     "output_type": "execute_result"
    }
   ],
   "source": [
    "submission.head(10)"
   ]
  },
  {
   "cell_type": "markdown",
   "metadata": {
    "collapsed": true
   },
   "source": [
    "# Summary"
   ]
  },
  {
   "cell_type": "markdown",
   "metadata": {},
   "source": [
    "I am still trying to improve this model, and for the most part, it is going rather well. Currently, I am ranked in the top 14% of the competition. A few different strategies that I still want to test out:\n",
    "- Improving how I clean the text. I have yet to find a fast and accurate function that I can import to do this.\n",
    "- Initializing the weights and biases differently. I have read that using truncated normal can be effective, but I want to try using different standard deviations.\n",
    "- Although I have already tried many different architectures, I will keep reading about this subject and see what useful information I can find and implement."
   ]
  },
  {
   "cell_type": "code",
   "execution_count": null,
   "metadata": {
    "collapsed": true
   },
   "outputs": [],
   "source": []
  }
 ],
 "metadata": {
  "anaconda-cloud": {},
  "kernelspec": {
   "display_name": "Python [default]",
   "language": "python",
   "name": "python3"
  },
  "language_info": {
   "codemirror_mode": {
    "name": "ipython",
    "version": 3
   },
   "file_extension": ".py",
   "mimetype": "text/x-python",
   "name": "python",
   "nbconvert_exporter": "python",
   "pygments_lexer": "ipython3",
   "version": "3.5.2"
  }
 },
 "nbformat": 4,
 "nbformat_minor": 1
}
